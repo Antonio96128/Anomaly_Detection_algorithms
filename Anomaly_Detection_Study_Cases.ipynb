{
  "nbformat": 4,
  "nbformat_minor": 0,
  "metadata": {
    "accelerator": "GPU",
    "colab": {
      "name": "Anomaly_Detection_Study_Cases.ipynb",
      "provenance": [],
      "collapsed_sections": [],
      "include_colab_link": true
    },
    "kernelspec": {
      "display_name": "Python 3",
      "language": "python",
      "name": "python3"
    },
    "language_info": {
      "codemirror_mode": {
        "name": "ipython",
        "version": 3
      },
      "file_extension": ".py",
      "mimetype": "text/x-python",
      "name": "python",
      "nbconvert_exporter": "python",
      "pygments_lexer": "ipython3",
      "version": "3.7.6"
    }
  },
  "cells": [
    {
      "cell_type": "markdown",
      "metadata": {
        "id": "view-in-github",
        "colab_type": "text"
      },
      "source": [
        "<a href=\"https://colab.research.google.com/github/Antonio96128/Anomaly_Detection_algorithms/blob/master/Anomaly_Detection_Study_Cases.ipynb\" target=\"_parent\"><img src=\"https://colab.research.google.com/assets/colab-badge.svg\" alt=\"Open In Colab\"/></a>"
      ]
    },
    {
      "cell_type": "markdown",
      "metadata": {
        "colab_type": "text",
        "id": "Pv1T3FMXf-uS"
      },
      "source": [
        "# What is this notebook about?"
      ]
    },
    {
      "cell_type": "markdown",
      "metadata": {
        "colab_type": "text",
        "id": "baqaajzyf-uV"
      },
      "source": [
        "Along this notebook we will review some machine learning techniques used to detect anomalies. But, what do we mean by anomalies? Well, anomalies can be understood as very rare events. For instance, when we deal with credit card transactions, most of the time we have valid transactions, but once in a while someone is able to commmit a fraud. Another interesting example has to do with detecting defective products in a factory. As we can infer, the dataset will be usually highly imbalanced (just a couple of anomaly examples) since people do their best to not loose money to this rare events. The latter, is maybe the main difficulty we have to overcome when we try to write a machine algorithm that is able to spot the anomalies."
      ]
    },
    {
      "cell_type": "markdown",
      "metadata": {
        "colab_type": "text",
        "id": "u57VS74Tf-uZ"
      },
      "source": [
        "First, we will review a dataset provided by the platform Machine Hack, https://www.machinehack.com/. This is a great place to test your machine learning abilities because you can compete in Weekend Hackatons, which have more realistic and challenguing datasets. We will focus on the Weekend Hackathon 18: \"Detecting Anomalies in Wafer Manufacturing\", https://www.machinehack.com/hackathons/detecting_anomalies_in_wafer_manufacturing_weekend_hackathon_18."
      ]
    },
    {
      "cell_type": "markdown",
      "metadata": {
        "colab_type": "text",
        "id": "Gbt_nr8Wf-ud"
      },
      "source": [
        "The goal of this hackaton was to detect defective products, based on certain anonimized features. The metric to optimize was the ROC-AUC score, so we will do that first, and I will show you, among other things, the algorithm and hyperparameter tuning strategy that let me rank 22 out of 173 active submissions. By the way, in case you are not familiarized with ROC-AUC, I strongly suggest you to watch this video https://www.youtube.com/watch?v=4jRBRDbJemM&t=1s. "
      ]
    },
    {
      "cell_type": "markdown",
      "metadata": {
        "colab_type": "text",
        "id": "ARZTrzFvf-uf"
      },
      "source": [
        "In the second part of the notebook, we will apply other commonly used anomaly detection techniques, like autoencoders and isolation forests."
      ]
    },
    {
      "cell_type": "markdown",
      "metadata": {
        "colab_type": "text",
        "id": "VFZE8YEff-uh"
      },
      "source": [
        "# Importing libraries"
      ]
    },
    {
      "cell_type": "code",
      "metadata": {
        "colab_type": "code",
        "id": "qYRT2RhUf-uk",
        "colab": {
          "base_uri": "https://localhost:8080/",
          "height": 52
        },
        "outputId": "6084b0aa-9e82-4bc4-d89a-e2c5fdef093c"
      },
      "source": [
        "\n",
        "import numpy as np\n",
        "import pandas as  pd\n",
        "import matplotlib.pyplot as plt\n",
        "import seaborn as sns\n",
        "import time\n",
        "\n",
        "\n",
        "from sklearn.model_selection import train_test_split\n",
        "from sklearn.metrics import confusion_matrix, log_loss, mean_squared_error, roc_auc_score, roc_curve, auc, classification_report, plot_confusion_matrix, f1_score\n",
        "from sklearn.preprocessing import StandardScaler\n",
        "\n",
        "\n",
        "\n",
        "from sklearn.decomposition import PCA\n",
        "from sklearn.ensemble import RandomForestClassifier\n",
        "\n",
        "\n",
        "import torch\n",
        "import torch.nn as nn\n",
        "from torch import optim\n",
        "from torch.utils.data import DataLoader\n",
        "\n",
        "\n"
      ],
      "execution_count": 1,
      "outputs": [
        {
          "output_type": "stream",
          "text": [
            "/usr/local/lib/python3.6/dist-packages/statsmodels/tools/_testing.py:19: FutureWarning: pandas.util.testing is deprecated. Use the functions in the public API at pandas.testing instead.\n",
            "  import pandas.util.testing as tm\n"
          ],
          "name": "stderr"
        }
      ]
    },
    {
      "cell_type": "markdown",
      "metadata": {
        "colab_type": "text",
        "id": "r8mbw_-Uf-u6"
      },
      "source": [
        "# First part"
      ]
    },
    {
      "cell_type": "code",
      "metadata": {
        "colab_type": "code",
        "id": "zYZTg-7Kf-u9",
        "colab": {
          "base_uri": "https://localhost:8080/",
          "height": 410
        },
        "outputId": "7ea5ebef-e401-4385-93b7-869836d81662"
      },
      "source": [
        "dataset  =  pd.read_csv('Train.csv')  ###  We will use this dataset to train and validate our model, the reason the \n",
        "                                      ###  file is named \"Train\" is because for the competition we have another file\n",
        "                                      ###  named \"Test\", used to make submissions and evaluate the model FOR REAL.        \n",
        "        \n",
        "\n",
        "dataset"
      ],
      "execution_count": 2,
      "outputs": [
        {
          "output_type": "execute_result",
          "data": {
            "text/html": [
              "<div>\n",
              "<style scoped>\n",
              "    .dataframe tbody tr th:only-of-type {\n",
              "        vertical-align: middle;\n",
              "    }\n",
              "\n",
              "    .dataframe tbody tr th {\n",
              "        vertical-align: top;\n",
              "    }\n",
              "\n",
              "    .dataframe thead th {\n",
              "        text-align: right;\n",
              "    }\n",
              "</style>\n",
              "<table border=\"1\" class=\"dataframe\">\n",
              "  <thead>\n",
              "    <tr style=\"text-align: right;\">\n",
              "      <th></th>\n",
              "      <th>feature_1</th>\n",
              "      <th>feature_2</th>\n",
              "      <th>feature_3</th>\n",
              "      <th>feature_4</th>\n",
              "      <th>feature_5</th>\n",
              "      <th>feature_6</th>\n",
              "      <th>feature_7</th>\n",
              "      <th>feature_8</th>\n",
              "      <th>feature_9</th>\n",
              "      <th>feature_10</th>\n",
              "      <th>feature_11</th>\n",
              "      <th>feature_12</th>\n",
              "      <th>feature_13</th>\n",
              "      <th>feature_14</th>\n",
              "      <th>feature_15</th>\n",
              "      <th>feature_16</th>\n",
              "      <th>feature_17</th>\n",
              "      <th>feature_18</th>\n",
              "      <th>feature_19</th>\n",
              "      <th>feature_20</th>\n",
              "      <th>feature_21</th>\n",
              "      <th>feature_22</th>\n",
              "      <th>feature_23</th>\n",
              "      <th>feature_24</th>\n",
              "      <th>feature_25</th>\n",
              "      <th>feature_26</th>\n",
              "      <th>feature_27</th>\n",
              "      <th>feature_28</th>\n",
              "      <th>feature_29</th>\n",
              "      <th>feature_30</th>\n",
              "      <th>feature_31</th>\n",
              "      <th>feature_32</th>\n",
              "      <th>feature_33</th>\n",
              "      <th>feature_34</th>\n",
              "      <th>feature_35</th>\n",
              "      <th>feature_36</th>\n",
              "      <th>feature_37</th>\n",
              "      <th>feature_38</th>\n",
              "      <th>feature_39</th>\n",
              "      <th>feature_40</th>\n",
              "      <th>...</th>\n",
              "      <th>feature_1520</th>\n",
              "      <th>feature_1521</th>\n",
              "      <th>feature_1522</th>\n",
              "      <th>feature_1523</th>\n",
              "      <th>feature_1524</th>\n",
              "      <th>feature_1525</th>\n",
              "      <th>feature_1526</th>\n",
              "      <th>feature_1527</th>\n",
              "      <th>feature_1528</th>\n",
              "      <th>feature_1529</th>\n",
              "      <th>feature_1530</th>\n",
              "      <th>feature_1531</th>\n",
              "      <th>feature_1532</th>\n",
              "      <th>feature_1533</th>\n",
              "      <th>feature_1534</th>\n",
              "      <th>feature_1535</th>\n",
              "      <th>feature_1536</th>\n",
              "      <th>feature_1537</th>\n",
              "      <th>feature_1538</th>\n",
              "      <th>feature_1539</th>\n",
              "      <th>feature_1540</th>\n",
              "      <th>feature_1541</th>\n",
              "      <th>feature_1542</th>\n",
              "      <th>feature_1543</th>\n",
              "      <th>feature_1544</th>\n",
              "      <th>feature_1545</th>\n",
              "      <th>feature_1546</th>\n",
              "      <th>feature_1547</th>\n",
              "      <th>feature_1548</th>\n",
              "      <th>feature_1549</th>\n",
              "      <th>feature_1550</th>\n",
              "      <th>feature_1551</th>\n",
              "      <th>feature_1552</th>\n",
              "      <th>feature_1553</th>\n",
              "      <th>feature_1554</th>\n",
              "      <th>feature_1555</th>\n",
              "      <th>feature_1556</th>\n",
              "      <th>feature_1557</th>\n",
              "      <th>feature_1558</th>\n",
              "      <th>Class</th>\n",
              "    </tr>\n",
              "  </thead>\n",
              "  <tbody>\n",
              "    <tr>\n",
              "      <th>0</th>\n",
              "      <td>100</td>\n",
              "      <td>160</td>\n",
              "      <td>1.6000</td>\n",
              "      <td>0</td>\n",
              "      <td>0</td>\n",
              "      <td>0</td>\n",
              "      <td>0</td>\n",
              "      <td>0</td>\n",
              "      <td>0</td>\n",
              "      <td>0</td>\n",
              "      <td>0</td>\n",
              "      <td>0</td>\n",
              "      <td>0</td>\n",
              "      <td>0</td>\n",
              "      <td>0</td>\n",
              "      <td>0</td>\n",
              "      <td>0</td>\n",
              "      <td>0</td>\n",
              "      <td>0</td>\n",
              "      <td>0</td>\n",
              "      <td>0</td>\n",
              "      <td>0</td>\n",
              "      <td>0</td>\n",
              "      <td>0</td>\n",
              "      <td>0</td>\n",
              "      <td>0</td>\n",
              "      <td>0</td>\n",
              "      <td>0</td>\n",
              "      <td>0</td>\n",
              "      <td>0</td>\n",
              "      <td>0</td>\n",
              "      <td>0</td>\n",
              "      <td>0</td>\n",
              "      <td>0</td>\n",
              "      <td>0</td>\n",
              "      <td>0</td>\n",
              "      <td>0</td>\n",
              "      <td>0</td>\n",
              "      <td>0</td>\n",
              "      <td>0</td>\n",
              "      <td>...</td>\n",
              "      <td>0</td>\n",
              "      <td>0</td>\n",
              "      <td>0</td>\n",
              "      <td>0</td>\n",
              "      <td>0</td>\n",
              "      <td>0</td>\n",
              "      <td>0</td>\n",
              "      <td>0</td>\n",
              "      <td>0</td>\n",
              "      <td>0</td>\n",
              "      <td>0</td>\n",
              "      <td>0</td>\n",
              "      <td>0</td>\n",
              "      <td>0</td>\n",
              "      <td>0</td>\n",
              "      <td>0</td>\n",
              "      <td>0</td>\n",
              "      <td>0</td>\n",
              "      <td>0</td>\n",
              "      <td>0</td>\n",
              "      <td>0</td>\n",
              "      <td>0</td>\n",
              "      <td>0</td>\n",
              "      <td>0</td>\n",
              "      <td>0</td>\n",
              "      <td>0</td>\n",
              "      <td>0</td>\n",
              "      <td>0</td>\n",
              "      <td>0</td>\n",
              "      <td>0</td>\n",
              "      <td>0</td>\n",
              "      <td>0</td>\n",
              "      <td>0</td>\n",
              "      <td>0</td>\n",
              "      <td>0</td>\n",
              "      <td>0</td>\n",
              "      <td>0</td>\n",
              "      <td>0</td>\n",
              "      <td>0</td>\n",
              "      <td>0</td>\n",
              "    </tr>\n",
              "    <tr>\n",
              "      <th>1</th>\n",
              "      <td>20</td>\n",
              "      <td>83</td>\n",
              "      <td>4.1500</td>\n",
              "      <td>1</td>\n",
              "      <td>0</td>\n",
              "      <td>0</td>\n",
              "      <td>0</td>\n",
              "      <td>0</td>\n",
              "      <td>0</td>\n",
              "      <td>1</td>\n",
              "      <td>0</td>\n",
              "      <td>0</td>\n",
              "      <td>0</td>\n",
              "      <td>0</td>\n",
              "      <td>0</td>\n",
              "      <td>0</td>\n",
              "      <td>0</td>\n",
              "      <td>0</td>\n",
              "      <td>0</td>\n",
              "      <td>0</td>\n",
              "      <td>0</td>\n",
              "      <td>0</td>\n",
              "      <td>0</td>\n",
              "      <td>0</td>\n",
              "      <td>0</td>\n",
              "      <td>0</td>\n",
              "      <td>0</td>\n",
              "      <td>0</td>\n",
              "      <td>0</td>\n",
              "      <td>0</td>\n",
              "      <td>0</td>\n",
              "      <td>0</td>\n",
              "      <td>0</td>\n",
              "      <td>0</td>\n",
              "      <td>0</td>\n",
              "      <td>0</td>\n",
              "      <td>0</td>\n",
              "      <td>0</td>\n",
              "      <td>0</td>\n",
              "      <td>0</td>\n",
              "      <td>...</td>\n",
              "      <td>0</td>\n",
              "      <td>0</td>\n",
              "      <td>0</td>\n",
              "      <td>0</td>\n",
              "      <td>0</td>\n",
              "      <td>0</td>\n",
              "      <td>0</td>\n",
              "      <td>0</td>\n",
              "      <td>0</td>\n",
              "      <td>0</td>\n",
              "      <td>0</td>\n",
              "      <td>0</td>\n",
              "      <td>0</td>\n",
              "      <td>0</td>\n",
              "      <td>0</td>\n",
              "      <td>0</td>\n",
              "      <td>0</td>\n",
              "      <td>0</td>\n",
              "      <td>0</td>\n",
              "      <td>0</td>\n",
              "      <td>0</td>\n",
              "      <td>0</td>\n",
              "      <td>0</td>\n",
              "      <td>0</td>\n",
              "      <td>0</td>\n",
              "      <td>0</td>\n",
              "      <td>0</td>\n",
              "      <td>0</td>\n",
              "      <td>0</td>\n",
              "      <td>0</td>\n",
              "      <td>0</td>\n",
              "      <td>0</td>\n",
              "      <td>0</td>\n",
              "      <td>0</td>\n",
              "      <td>0</td>\n",
              "      <td>1</td>\n",
              "      <td>0</td>\n",
              "      <td>0</td>\n",
              "      <td>0</td>\n",
              "      <td>0</td>\n",
              "    </tr>\n",
              "    <tr>\n",
              "      <th>2</th>\n",
              "      <td>99</td>\n",
              "      <td>150</td>\n",
              "      <td>1.5151</td>\n",
              "      <td>1</td>\n",
              "      <td>0</td>\n",
              "      <td>0</td>\n",
              "      <td>0</td>\n",
              "      <td>0</td>\n",
              "      <td>0</td>\n",
              "      <td>0</td>\n",
              "      <td>0</td>\n",
              "      <td>0</td>\n",
              "      <td>0</td>\n",
              "      <td>0</td>\n",
              "      <td>0</td>\n",
              "      <td>0</td>\n",
              "      <td>0</td>\n",
              "      <td>0</td>\n",
              "      <td>0</td>\n",
              "      <td>0</td>\n",
              "      <td>0</td>\n",
              "      <td>0</td>\n",
              "      <td>0</td>\n",
              "      <td>0</td>\n",
              "      <td>0</td>\n",
              "      <td>0</td>\n",
              "      <td>0</td>\n",
              "      <td>0</td>\n",
              "      <td>0</td>\n",
              "      <td>0</td>\n",
              "      <td>0</td>\n",
              "      <td>0</td>\n",
              "      <td>0</td>\n",
              "      <td>0</td>\n",
              "      <td>0</td>\n",
              "      <td>0</td>\n",
              "      <td>0</td>\n",
              "      <td>0</td>\n",
              "      <td>0</td>\n",
              "      <td>0</td>\n",
              "      <td>...</td>\n",
              "      <td>0</td>\n",
              "      <td>0</td>\n",
              "      <td>0</td>\n",
              "      <td>0</td>\n",
              "      <td>0</td>\n",
              "      <td>0</td>\n",
              "      <td>0</td>\n",
              "      <td>0</td>\n",
              "      <td>0</td>\n",
              "      <td>0</td>\n",
              "      <td>0</td>\n",
              "      <td>0</td>\n",
              "      <td>0</td>\n",
              "      <td>0</td>\n",
              "      <td>0</td>\n",
              "      <td>0</td>\n",
              "      <td>0</td>\n",
              "      <td>0</td>\n",
              "      <td>0</td>\n",
              "      <td>0</td>\n",
              "      <td>0</td>\n",
              "      <td>0</td>\n",
              "      <td>0</td>\n",
              "      <td>0</td>\n",
              "      <td>0</td>\n",
              "      <td>0</td>\n",
              "      <td>0</td>\n",
              "      <td>0</td>\n",
              "      <td>0</td>\n",
              "      <td>0</td>\n",
              "      <td>0</td>\n",
              "      <td>0</td>\n",
              "      <td>0</td>\n",
              "      <td>0</td>\n",
              "      <td>0</td>\n",
              "      <td>0</td>\n",
              "      <td>0</td>\n",
              "      <td>0</td>\n",
              "      <td>0</td>\n",
              "      <td>0</td>\n",
              "    </tr>\n",
              "    <tr>\n",
              "      <th>3</th>\n",
              "      <td>40</td>\n",
              "      <td>40</td>\n",
              "      <td>1.0000</td>\n",
              "      <td>0</td>\n",
              "      <td>0</td>\n",
              "      <td>0</td>\n",
              "      <td>0</td>\n",
              "      <td>0</td>\n",
              "      <td>0</td>\n",
              "      <td>0</td>\n",
              "      <td>0</td>\n",
              "      <td>0</td>\n",
              "      <td>0</td>\n",
              "      <td>0</td>\n",
              "      <td>0</td>\n",
              "      <td>0</td>\n",
              "      <td>0</td>\n",
              "      <td>0</td>\n",
              "      <td>0</td>\n",
              "      <td>1</td>\n",
              "      <td>0</td>\n",
              "      <td>0</td>\n",
              "      <td>0</td>\n",
              "      <td>0</td>\n",
              "      <td>0</td>\n",
              "      <td>0</td>\n",
              "      <td>0</td>\n",
              "      <td>0</td>\n",
              "      <td>0</td>\n",
              "      <td>0</td>\n",
              "      <td>0</td>\n",
              "      <td>0</td>\n",
              "      <td>0</td>\n",
              "      <td>0</td>\n",
              "      <td>0</td>\n",
              "      <td>0</td>\n",
              "      <td>0</td>\n",
              "      <td>0</td>\n",
              "      <td>0</td>\n",
              "      <td>0</td>\n",
              "      <td>...</td>\n",
              "      <td>0</td>\n",
              "      <td>0</td>\n",
              "      <td>0</td>\n",
              "      <td>0</td>\n",
              "      <td>0</td>\n",
              "      <td>0</td>\n",
              "      <td>0</td>\n",
              "      <td>0</td>\n",
              "      <td>0</td>\n",
              "      <td>0</td>\n",
              "      <td>0</td>\n",
              "      <td>0</td>\n",
              "      <td>0</td>\n",
              "      <td>0</td>\n",
              "      <td>0</td>\n",
              "      <td>0</td>\n",
              "      <td>0</td>\n",
              "      <td>0</td>\n",
              "      <td>0</td>\n",
              "      <td>0</td>\n",
              "      <td>0</td>\n",
              "      <td>0</td>\n",
              "      <td>0</td>\n",
              "      <td>1</td>\n",
              "      <td>0</td>\n",
              "      <td>0</td>\n",
              "      <td>0</td>\n",
              "      <td>0</td>\n",
              "      <td>0</td>\n",
              "      <td>0</td>\n",
              "      <td>0</td>\n",
              "      <td>0</td>\n",
              "      <td>0</td>\n",
              "      <td>0</td>\n",
              "      <td>0</td>\n",
              "      <td>0</td>\n",
              "      <td>0</td>\n",
              "      <td>0</td>\n",
              "      <td>0</td>\n",
              "      <td>0</td>\n",
              "    </tr>\n",
              "    <tr>\n",
              "      <th>4</th>\n",
              "      <td>12</td>\n",
              "      <td>234</td>\n",
              "      <td>19.5000</td>\n",
              "      <td>1</td>\n",
              "      <td>0</td>\n",
              "      <td>0</td>\n",
              "      <td>0</td>\n",
              "      <td>0</td>\n",
              "      <td>0</td>\n",
              "      <td>0</td>\n",
              "      <td>0</td>\n",
              "      <td>0</td>\n",
              "      <td>0</td>\n",
              "      <td>0</td>\n",
              "      <td>0</td>\n",
              "      <td>0</td>\n",
              "      <td>0</td>\n",
              "      <td>0</td>\n",
              "      <td>0</td>\n",
              "      <td>0</td>\n",
              "      <td>0</td>\n",
              "      <td>0</td>\n",
              "      <td>0</td>\n",
              "      <td>0</td>\n",
              "      <td>0</td>\n",
              "      <td>0</td>\n",
              "      <td>0</td>\n",
              "      <td>0</td>\n",
              "      <td>0</td>\n",
              "      <td>0</td>\n",
              "      <td>0</td>\n",
              "      <td>0</td>\n",
              "      <td>0</td>\n",
              "      <td>0</td>\n",
              "      <td>0</td>\n",
              "      <td>0</td>\n",
              "      <td>0</td>\n",
              "      <td>0</td>\n",
              "      <td>0</td>\n",
              "      <td>0</td>\n",
              "      <td>...</td>\n",
              "      <td>0</td>\n",
              "      <td>0</td>\n",
              "      <td>0</td>\n",
              "      <td>0</td>\n",
              "      <td>0</td>\n",
              "      <td>0</td>\n",
              "      <td>0</td>\n",
              "      <td>0</td>\n",
              "      <td>1</td>\n",
              "      <td>0</td>\n",
              "      <td>0</td>\n",
              "      <td>0</td>\n",
              "      <td>0</td>\n",
              "      <td>0</td>\n",
              "      <td>0</td>\n",
              "      <td>0</td>\n",
              "      <td>0</td>\n",
              "      <td>0</td>\n",
              "      <td>0</td>\n",
              "      <td>0</td>\n",
              "      <td>0</td>\n",
              "      <td>0</td>\n",
              "      <td>0</td>\n",
              "      <td>0</td>\n",
              "      <td>0</td>\n",
              "      <td>0</td>\n",
              "      <td>0</td>\n",
              "      <td>0</td>\n",
              "      <td>0</td>\n",
              "      <td>0</td>\n",
              "      <td>0</td>\n",
              "      <td>0</td>\n",
              "      <td>0</td>\n",
              "      <td>0</td>\n",
              "      <td>0</td>\n",
              "      <td>0</td>\n",
              "      <td>0</td>\n",
              "      <td>0</td>\n",
              "      <td>0</td>\n",
              "      <td>0</td>\n",
              "    </tr>\n",
              "    <tr>\n",
              "      <th>...</th>\n",
              "      <td>...</td>\n",
              "      <td>...</td>\n",
              "      <td>...</td>\n",
              "      <td>...</td>\n",
              "      <td>...</td>\n",
              "      <td>...</td>\n",
              "      <td>...</td>\n",
              "      <td>...</td>\n",
              "      <td>...</td>\n",
              "      <td>...</td>\n",
              "      <td>...</td>\n",
              "      <td>...</td>\n",
              "      <td>...</td>\n",
              "      <td>...</td>\n",
              "      <td>...</td>\n",
              "      <td>...</td>\n",
              "      <td>...</td>\n",
              "      <td>...</td>\n",
              "      <td>...</td>\n",
              "      <td>...</td>\n",
              "      <td>...</td>\n",
              "      <td>...</td>\n",
              "      <td>...</td>\n",
              "      <td>...</td>\n",
              "      <td>...</td>\n",
              "      <td>...</td>\n",
              "      <td>...</td>\n",
              "      <td>...</td>\n",
              "      <td>...</td>\n",
              "      <td>...</td>\n",
              "      <td>...</td>\n",
              "      <td>...</td>\n",
              "      <td>...</td>\n",
              "      <td>...</td>\n",
              "      <td>...</td>\n",
              "      <td>...</td>\n",
              "      <td>...</td>\n",
              "      <td>...</td>\n",
              "      <td>...</td>\n",
              "      <td>...</td>\n",
              "      <td>...</td>\n",
              "      <td>...</td>\n",
              "      <td>...</td>\n",
              "      <td>...</td>\n",
              "      <td>...</td>\n",
              "      <td>...</td>\n",
              "      <td>...</td>\n",
              "      <td>...</td>\n",
              "      <td>...</td>\n",
              "      <td>...</td>\n",
              "      <td>...</td>\n",
              "      <td>...</td>\n",
              "      <td>...</td>\n",
              "      <td>...</td>\n",
              "      <td>...</td>\n",
              "      <td>...</td>\n",
              "      <td>...</td>\n",
              "      <td>...</td>\n",
              "      <td>...</td>\n",
              "      <td>...</td>\n",
              "      <td>...</td>\n",
              "      <td>...</td>\n",
              "      <td>...</td>\n",
              "      <td>...</td>\n",
              "      <td>...</td>\n",
              "      <td>...</td>\n",
              "      <td>...</td>\n",
              "      <td>...</td>\n",
              "      <td>...</td>\n",
              "      <td>...</td>\n",
              "      <td>...</td>\n",
              "      <td>...</td>\n",
              "      <td>...</td>\n",
              "      <td>...</td>\n",
              "      <td>...</td>\n",
              "      <td>...</td>\n",
              "      <td>...</td>\n",
              "      <td>...</td>\n",
              "      <td>...</td>\n",
              "      <td>...</td>\n",
              "      <td>...</td>\n",
              "    </tr>\n",
              "    <tr>\n",
              "      <th>1758</th>\n",
              "      <td>1</td>\n",
              "      <td>1</td>\n",
              "      <td>2.0000</td>\n",
              "      <td>1</td>\n",
              "      <td>0</td>\n",
              "      <td>0</td>\n",
              "      <td>0</td>\n",
              "      <td>0</td>\n",
              "      <td>0</td>\n",
              "      <td>0</td>\n",
              "      <td>0</td>\n",
              "      <td>0</td>\n",
              "      <td>0</td>\n",
              "      <td>0</td>\n",
              "      <td>0</td>\n",
              "      <td>0</td>\n",
              "      <td>0</td>\n",
              "      <td>0</td>\n",
              "      <td>0</td>\n",
              "      <td>1</td>\n",
              "      <td>0</td>\n",
              "      <td>0</td>\n",
              "      <td>0</td>\n",
              "      <td>0</td>\n",
              "      <td>0</td>\n",
              "      <td>0</td>\n",
              "      <td>0</td>\n",
              "      <td>0</td>\n",
              "      <td>0</td>\n",
              "      <td>0</td>\n",
              "      <td>0</td>\n",
              "      <td>0</td>\n",
              "      <td>0</td>\n",
              "      <td>0</td>\n",
              "      <td>0</td>\n",
              "      <td>0</td>\n",
              "      <td>0</td>\n",
              "      <td>0</td>\n",
              "      <td>0</td>\n",
              "      <td>0</td>\n",
              "      <td>...</td>\n",
              "      <td>0</td>\n",
              "      <td>0</td>\n",
              "      <td>0</td>\n",
              "      <td>0</td>\n",
              "      <td>0</td>\n",
              "      <td>0</td>\n",
              "      <td>0</td>\n",
              "      <td>0</td>\n",
              "      <td>0</td>\n",
              "      <td>0</td>\n",
              "      <td>0</td>\n",
              "      <td>0</td>\n",
              "      <td>0</td>\n",
              "      <td>0</td>\n",
              "      <td>0</td>\n",
              "      <td>0</td>\n",
              "      <td>0</td>\n",
              "      <td>0</td>\n",
              "      <td>0</td>\n",
              "      <td>0</td>\n",
              "      <td>0</td>\n",
              "      <td>0</td>\n",
              "      <td>0</td>\n",
              "      <td>0</td>\n",
              "      <td>0</td>\n",
              "      <td>0</td>\n",
              "      <td>0</td>\n",
              "      <td>0</td>\n",
              "      <td>0</td>\n",
              "      <td>0</td>\n",
              "      <td>0</td>\n",
              "      <td>0</td>\n",
              "      <td>0</td>\n",
              "      <td>0</td>\n",
              "      <td>0</td>\n",
              "      <td>0</td>\n",
              "      <td>0</td>\n",
              "      <td>0</td>\n",
              "      <td>0</td>\n",
              "      <td>0</td>\n",
              "    </tr>\n",
              "    <tr>\n",
              "      <th>1759</th>\n",
              "      <td>40</td>\n",
              "      <td>200</td>\n",
              "      <td>5.0000</td>\n",
              "      <td>1</td>\n",
              "      <td>0</td>\n",
              "      <td>0</td>\n",
              "      <td>0</td>\n",
              "      <td>0</td>\n",
              "      <td>0</td>\n",
              "      <td>0</td>\n",
              "      <td>0</td>\n",
              "      <td>0</td>\n",
              "      <td>0</td>\n",
              "      <td>0</td>\n",
              "      <td>0</td>\n",
              "      <td>0</td>\n",
              "      <td>0</td>\n",
              "      <td>0</td>\n",
              "      <td>0</td>\n",
              "      <td>0</td>\n",
              "      <td>0</td>\n",
              "      <td>0</td>\n",
              "      <td>0</td>\n",
              "      <td>0</td>\n",
              "      <td>0</td>\n",
              "      <td>0</td>\n",
              "      <td>0</td>\n",
              "      <td>0</td>\n",
              "      <td>0</td>\n",
              "      <td>0</td>\n",
              "      <td>0</td>\n",
              "      <td>0</td>\n",
              "      <td>0</td>\n",
              "      <td>0</td>\n",
              "      <td>0</td>\n",
              "      <td>0</td>\n",
              "      <td>0</td>\n",
              "      <td>0</td>\n",
              "      <td>0</td>\n",
              "      <td>0</td>\n",
              "      <td>...</td>\n",
              "      <td>0</td>\n",
              "      <td>0</td>\n",
              "      <td>0</td>\n",
              "      <td>0</td>\n",
              "      <td>0</td>\n",
              "      <td>0</td>\n",
              "      <td>0</td>\n",
              "      <td>0</td>\n",
              "      <td>0</td>\n",
              "      <td>0</td>\n",
              "      <td>0</td>\n",
              "      <td>0</td>\n",
              "      <td>0</td>\n",
              "      <td>0</td>\n",
              "      <td>0</td>\n",
              "      <td>0</td>\n",
              "      <td>0</td>\n",
              "      <td>0</td>\n",
              "      <td>0</td>\n",
              "      <td>0</td>\n",
              "      <td>0</td>\n",
              "      <td>0</td>\n",
              "      <td>0</td>\n",
              "      <td>0</td>\n",
              "      <td>0</td>\n",
              "      <td>0</td>\n",
              "      <td>0</td>\n",
              "      <td>0</td>\n",
              "      <td>0</td>\n",
              "      <td>0</td>\n",
              "      <td>0</td>\n",
              "      <td>0</td>\n",
              "      <td>0</td>\n",
              "      <td>0</td>\n",
              "      <td>0</td>\n",
              "      <td>0</td>\n",
              "      <td>0</td>\n",
              "      <td>0</td>\n",
              "      <td>0</td>\n",
              "      <td>0</td>\n",
              "    </tr>\n",
              "    <tr>\n",
              "      <th>1760</th>\n",
              "      <td>96</td>\n",
              "      <td>218</td>\n",
              "      <td>2.2708</td>\n",
              "      <td>1</td>\n",
              "      <td>0</td>\n",
              "      <td>0</td>\n",
              "      <td>0</td>\n",
              "      <td>0</td>\n",
              "      <td>0</td>\n",
              "      <td>0</td>\n",
              "      <td>0</td>\n",
              "      <td>0</td>\n",
              "      <td>0</td>\n",
              "      <td>0</td>\n",
              "      <td>0</td>\n",
              "      <td>0</td>\n",
              "      <td>0</td>\n",
              "      <td>0</td>\n",
              "      <td>0</td>\n",
              "      <td>0</td>\n",
              "      <td>0</td>\n",
              "      <td>0</td>\n",
              "      <td>0</td>\n",
              "      <td>0</td>\n",
              "      <td>0</td>\n",
              "      <td>0</td>\n",
              "      <td>0</td>\n",
              "      <td>0</td>\n",
              "      <td>0</td>\n",
              "      <td>0</td>\n",
              "      <td>0</td>\n",
              "      <td>0</td>\n",
              "      <td>0</td>\n",
              "      <td>0</td>\n",
              "      <td>0</td>\n",
              "      <td>0</td>\n",
              "      <td>0</td>\n",
              "      <td>0</td>\n",
              "      <td>0</td>\n",
              "      <td>0</td>\n",
              "      <td>...</td>\n",
              "      <td>0</td>\n",
              "      <td>0</td>\n",
              "      <td>0</td>\n",
              "      <td>0</td>\n",
              "      <td>0</td>\n",
              "      <td>0</td>\n",
              "      <td>0</td>\n",
              "      <td>0</td>\n",
              "      <td>0</td>\n",
              "      <td>0</td>\n",
              "      <td>0</td>\n",
              "      <td>0</td>\n",
              "      <td>0</td>\n",
              "      <td>0</td>\n",
              "      <td>0</td>\n",
              "      <td>0</td>\n",
              "      <td>0</td>\n",
              "      <td>0</td>\n",
              "      <td>0</td>\n",
              "      <td>0</td>\n",
              "      <td>0</td>\n",
              "      <td>0</td>\n",
              "      <td>0</td>\n",
              "      <td>0</td>\n",
              "      <td>0</td>\n",
              "      <td>0</td>\n",
              "      <td>0</td>\n",
              "      <td>0</td>\n",
              "      <td>0</td>\n",
              "      <td>0</td>\n",
              "      <td>0</td>\n",
              "      <td>0</td>\n",
              "      <td>0</td>\n",
              "      <td>0</td>\n",
              "      <td>0</td>\n",
              "      <td>0</td>\n",
              "      <td>0</td>\n",
              "      <td>0</td>\n",
              "      <td>0</td>\n",
              "      <td>0</td>\n",
              "    </tr>\n",
              "    <tr>\n",
              "      <th>1761</th>\n",
              "      <td>16</td>\n",
              "      <td>81</td>\n",
              "      <td>5.0625</td>\n",
              "      <td>1</td>\n",
              "      <td>0</td>\n",
              "      <td>0</td>\n",
              "      <td>1</td>\n",
              "      <td>0</td>\n",
              "      <td>0</td>\n",
              "      <td>0</td>\n",
              "      <td>0</td>\n",
              "      <td>0</td>\n",
              "      <td>0</td>\n",
              "      <td>0</td>\n",
              "      <td>0</td>\n",
              "      <td>0</td>\n",
              "      <td>0</td>\n",
              "      <td>0</td>\n",
              "      <td>0</td>\n",
              "      <td>0</td>\n",
              "      <td>0</td>\n",
              "      <td>0</td>\n",
              "      <td>0</td>\n",
              "      <td>0</td>\n",
              "      <td>0</td>\n",
              "      <td>0</td>\n",
              "      <td>0</td>\n",
              "      <td>0</td>\n",
              "      <td>0</td>\n",
              "      <td>0</td>\n",
              "      <td>0</td>\n",
              "      <td>0</td>\n",
              "      <td>0</td>\n",
              "      <td>0</td>\n",
              "      <td>0</td>\n",
              "      <td>0</td>\n",
              "      <td>0</td>\n",
              "      <td>0</td>\n",
              "      <td>0</td>\n",
              "      <td>0</td>\n",
              "      <td>...</td>\n",
              "      <td>0</td>\n",
              "      <td>0</td>\n",
              "      <td>0</td>\n",
              "      <td>0</td>\n",
              "      <td>0</td>\n",
              "      <td>0</td>\n",
              "      <td>0</td>\n",
              "      <td>0</td>\n",
              "      <td>0</td>\n",
              "      <td>0</td>\n",
              "      <td>0</td>\n",
              "      <td>0</td>\n",
              "      <td>0</td>\n",
              "      <td>0</td>\n",
              "      <td>0</td>\n",
              "      <td>0</td>\n",
              "      <td>0</td>\n",
              "      <td>0</td>\n",
              "      <td>0</td>\n",
              "      <td>0</td>\n",
              "      <td>0</td>\n",
              "      <td>0</td>\n",
              "      <td>0</td>\n",
              "      <td>0</td>\n",
              "      <td>0</td>\n",
              "      <td>0</td>\n",
              "      <td>0</td>\n",
              "      <td>0</td>\n",
              "      <td>0</td>\n",
              "      <td>0</td>\n",
              "      <td>0</td>\n",
              "      <td>0</td>\n",
              "      <td>0</td>\n",
              "      <td>0</td>\n",
              "      <td>0</td>\n",
              "      <td>0</td>\n",
              "      <td>0</td>\n",
              "      <td>0</td>\n",
              "      <td>0</td>\n",
              "      <td>0</td>\n",
              "    </tr>\n",
              "    <tr>\n",
              "      <th>1762</th>\n",
              "      <td>36</td>\n",
              "      <td>41</td>\n",
              "      <td>1.1388</td>\n",
              "      <td>0</td>\n",
              "      <td>0</td>\n",
              "      <td>0</td>\n",
              "      <td>0</td>\n",
              "      <td>0</td>\n",
              "      <td>0</td>\n",
              "      <td>0</td>\n",
              "      <td>0</td>\n",
              "      <td>0</td>\n",
              "      <td>0</td>\n",
              "      <td>0</td>\n",
              "      <td>0</td>\n",
              "      <td>0</td>\n",
              "      <td>0</td>\n",
              "      <td>0</td>\n",
              "      <td>0</td>\n",
              "      <td>0</td>\n",
              "      <td>0</td>\n",
              "      <td>0</td>\n",
              "      <td>0</td>\n",
              "      <td>0</td>\n",
              "      <td>0</td>\n",
              "      <td>0</td>\n",
              "      <td>0</td>\n",
              "      <td>0</td>\n",
              "      <td>0</td>\n",
              "      <td>0</td>\n",
              "      <td>0</td>\n",
              "      <td>0</td>\n",
              "      <td>0</td>\n",
              "      <td>0</td>\n",
              "      <td>0</td>\n",
              "      <td>0</td>\n",
              "      <td>0</td>\n",
              "      <td>0</td>\n",
              "      <td>0</td>\n",
              "      <td>0</td>\n",
              "      <td>...</td>\n",
              "      <td>0</td>\n",
              "      <td>0</td>\n",
              "      <td>0</td>\n",
              "      <td>1</td>\n",
              "      <td>0</td>\n",
              "      <td>0</td>\n",
              "      <td>0</td>\n",
              "      <td>0</td>\n",
              "      <td>0</td>\n",
              "      <td>0</td>\n",
              "      <td>0</td>\n",
              "      <td>0</td>\n",
              "      <td>0</td>\n",
              "      <td>0</td>\n",
              "      <td>0</td>\n",
              "      <td>0</td>\n",
              "      <td>0</td>\n",
              "      <td>0</td>\n",
              "      <td>0</td>\n",
              "      <td>0</td>\n",
              "      <td>0</td>\n",
              "      <td>0</td>\n",
              "      <td>0</td>\n",
              "      <td>0</td>\n",
              "      <td>0</td>\n",
              "      <td>0</td>\n",
              "      <td>0</td>\n",
              "      <td>0</td>\n",
              "      <td>0</td>\n",
              "      <td>0</td>\n",
              "      <td>0</td>\n",
              "      <td>0</td>\n",
              "      <td>0</td>\n",
              "      <td>0</td>\n",
              "      <td>0</td>\n",
              "      <td>0</td>\n",
              "      <td>0</td>\n",
              "      <td>0</td>\n",
              "      <td>0</td>\n",
              "      <td>0</td>\n",
              "    </tr>\n",
              "  </tbody>\n",
              "</table>\n",
              "<p>1763 rows × 1559 columns</p>\n",
              "</div>"
            ],
            "text/plain": [
              "      feature_1  feature_2  feature_3  ...  feature_1557  feature_1558  Class\n",
              "0           100        160     1.6000  ...             0             0      0\n",
              "1            20         83     4.1500  ...             0             0      0\n",
              "2            99        150     1.5151  ...             0             0      0\n",
              "3            40         40     1.0000  ...             0             0      0\n",
              "4            12        234    19.5000  ...             0             0      0\n",
              "...         ...        ...        ...  ...           ...           ...    ...\n",
              "1758          1          1     2.0000  ...             0             0      0\n",
              "1759         40        200     5.0000  ...             0             0      0\n",
              "1760         96        218     2.2708  ...             0             0      0\n",
              "1761         16         81     5.0625  ...             0             0      0\n",
              "1762         36         41     1.1388  ...             0             0      0\n",
              "\n",
              "[1763 rows x 1559 columns]"
            ]
          },
          "metadata": {
            "tags": []
          },
          "execution_count": 2
        }
      ]
    },
    {
      "cell_type": "code",
      "metadata": {
        "colab_type": "code",
        "id": "hRFRVZ7vf-vM",
        "colab": {
          "base_uri": "https://localhost:8080/",
          "height": 69
        },
        "outputId": "aee6ac3a-8818-4966-9be1-3949d3185489"
      },
      "source": [
        "dataset.Class.value_counts()"
      ],
      "execution_count": 3,
      "outputs": [
        {
          "output_type": "execute_result",
          "data": {
            "text/plain": [
              "0    1620\n",
              "1     143\n",
              "Name: Class, dtype: int64"
            ]
          },
          "metadata": {
            "tags": []
          },
          "execution_count": 3
        }
      ]
    },
    {
      "cell_type": "markdown",
      "metadata": {
        "colab_type": "text",
        "id": "4mO9qMVFf-vV"
      },
      "source": [
        "As we can notice we have a large number of (anonimized) features, so we have to come up with a solution for that. Also, we can notice that most of the points are NOT ANOMALIES (CLASS 1)."
      ]
    },
    {
      "cell_type": "code",
      "metadata": {
        "colab_type": "code",
        "id": "3bfJpzkbf-vX",
        "colab": {}
      },
      "source": [
        "### PREPARING DATA\n",
        "\n",
        "y = dataset.Class.copy()\n",
        "y = np.array(y)\n",
        "\n",
        "dataset.drop(columns = ['Class'], axis = 1 , inplace = True)\n",
        "\n",
        "X = dataset.copy()\n",
        "X = np.array(X)\n"
      ],
      "execution_count": 4,
      "outputs": []
    },
    {
      "cell_type": "markdown",
      "metadata": {
        "colab_type": "text",
        "id": "jk0v5YQmf-vj"
      },
      "source": [
        "Before we continue, we notice something rather strange... It seems to be that most columns are filled with zeros, so they do not carry useful information. So, what do we do? Well, we could analize them one by one and check the relevance of them, but that is very time consuming. Another option is to use PCA to perform a linear dimensionality reduction, and in this way only keep the (linear combinations of) variables that explain most of the variance."
      ]
    },
    {
      "cell_type": "markdown",
      "metadata": {
        "colab_type": "text",
        "id": "-Eqc2l14f-vl"
      },
      "source": [
        "This dimensionality reduction and the normalization will be performed inside the following functions, in order to exploit cross validation. Notice that we are coding in a very explicit way, but another path would be to use built-in sklearn functions. Personally, I prefer this since I can spot bugs more easily."
      ]
    },
    {
      "cell_type": "markdown",
      "metadata": {
        "colab_type": "text",
        "id": "800jE768m5yV"
      },
      "source": [
        "Before going into the machine learning algorithms it would be nice to visualize the data, just in case we can do something without the necessity of a more complex approach."
      ]
    },
    {
      "cell_type": "code",
      "metadata": {
        "colab_type": "code",
        "id": "VYBY5uPMnDEF",
        "colab": {
          "base_uri": "https://localhost:8080/",
          "height": 313
        },
        "outputId": "15da74a8-e28c-4eb2-fc46-cd2092b45cef"
      },
      "source": [
        "plt.figure(\"Scatterplot 1\")\n",
        "plt.title(\"Scatterplot of features\")\n",
        "sns.scatterplot(data = dataset, x ='feature_1' , y = 'feature_2', hue= y, alpha=0.8)"
      ],
      "execution_count": 5,
      "outputs": [
        {
          "output_type": "execute_result",
          "data": {
            "text/plain": [
              "<matplotlib.axes._subplots.AxesSubplot at 0x7f17b1cda4e0>"
            ]
          },
          "metadata": {
            "tags": []
          },
          "execution_count": 5
        },
        {
          "output_type": "display_data",
          "data": {
            "image/png": "[encoded data removed]",
            "text/plain": [
              "<Figure size 432x288 with 1 Axes>"
            ]
          },
          "metadata": {
            "tags": [],
            "needs_background": "light"
          }
        }
      ]
    },
    {
      "cell_type": "code",
      "metadata": {
        "colab_type": "code",
        "id": "bIgUBQyGnDJV",
        "colab": {
          "base_uri": "https://localhost:8080/",
          "height": 313
        },
        "outputId": "bad66dde-191c-44f5-9453-728896c66207"
      },
      "source": [
        "plt.figure(\"Scatterplot 1\")\n",
        "plt.title(\"Scatterplot of features\")\n",
        "sns.scatterplot(data = dataset, x ='feature_2' , y = 'feature_3', hue= y, alpha=0.8)"
      ],
      "execution_count": 6,
      "outputs": [
        {
          "output_type": "execute_result",
          "data": {
            "text/plain": [
              "<matplotlib.axes._subplots.AxesSubplot at 0x7f175806bf98>"
            ]
          },
          "metadata": {
            "tags": []
          },
          "execution_count": 6
        },
        {
          "output_type": "display_data",
          "data": {
            "image/png": "[encoded data removed]",
            "text/plain": [
              "<Figure size 432x288 with 1 Axes>"
            ]
          },
          "metadata": {
            "tags": [],
            "needs_background": "light"
          }
        }
      ]
    },
    {
      "cell_type": "code",
      "metadata": {
        "colab_type": "code",
        "id": "bMe7uWiEnDHO",
        "colab": {
          "base_uri": "https://localhost:8080/",
          "height": 313
        },
        "outputId": "42cf557f-096e-4be8-e113-b0c03326f4f1"
      },
      "source": [
        "plt.figure(\"Scatterplot 1\")\n",
        "plt.title(\"Scatterplot of features\")\n",
        "sns.scatterplot(data = dataset, x ='feature_1' , y = 'feature_4', hue= y, alpha=0.8)"
      ],
      "execution_count": 7,
      "outputs": [
        {
          "output_type": "execute_result",
          "data": {
            "text/plain": [
              "<matplotlib.axes._subplots.AxesSubplot at 0x7f1757ad5da0>"
            ]
          },
          "metadata": {
            "tags": []
          },
          "execution_count": 7
        },
        {
          "output_type": "display_data",
          "data": {
            "image/png": "[encoded data removed]",
            "text/plain": [
              "<Figure size 432x288 with 1 Axes>"
            ]
          },
          "metadata": {
            "tags": [],
            "needs_background": "light"
          }
        }
      ]
    },
    {
      "cell_type": "markdown",
      "metadata": {
        "colab_type": "text",
        "id": "czNYFWXHq311"
      },
      "source": [
        "No trivial pattern can be visualized, so let's try a different approach."
      ]
    },
    {
      "cell_type": "markdown",
      "metadata": {
        "colab_type": "text",
        "id": "M4sqEkeff-vm"
      },
      "source": [
        "We will train a Random Forest Classifier."
      ]
    },
    {
      "cell_type": "code",
      "metadata": {
        "colab_type": "code",
        "id": "yKh-OlHCf-vp",
        "colab": {}
      },
      "source": [
        "def train_RF(X_train, y_train, n_estimators, max_depth, min_samples_leaf):\n",
        "    \n",
        "    '''Train a Random Forest Classifier'''\n",
        "\n",
        "    model_RF = RandomForestClassifier(n_estimators = n_estimators, max_depth = max_depth,\n",
        "                                      min_samples_leaf = min_samples_leaf)#, max_features = 4)#, class_weight = 'balanced')\n",
        "    \n",
        "    model_RF.fit(X_train, y_train)\n",
        "        \n",
        "    train_predictions = model_RF.predict_proba(X_train)\n",
        "    \n",
        "    return model_RF, train_predictions[:,1]\n"
      ],
      "execution_count": 8,
      "outputs": []
    },
    {
      "cell_type": "code",
      "metadata": {
        "colab_type": "code",
        "id": "XBLIeYPmf-v4",
        "colab": {}
      },
      "source": [
        "\n",
        "def CV(X, y, k_fold, n_estimators, max_depth, min_samples_leaf, n_components):\n",
        "    \n",
        "    '''CROSS VALIDATION'''\n",
        "    \n",
        "    \n",
        "    cv_AUC    = []\n",
        "    train_AUC = []\n",
        "    \n",
        "    \n",
        "    for i in range(k_fold):\n",
        "        \n",
        "        X_train, X_val, y_train, y_val =  train_test_split(X, y, test_size = 0.2)\n",
        "        \n",
        "        \n",
        "                \n",
        "#         scaler_x = StandardScaler()\n",
        "        pca = PCA(n_components = n_components)\n",
        "\n",
        "\n",
        "    \n",
        "        X_train  = pca.fit_transform(X_train)\n",
        "        X_val    = pca.transform(X_val)\n",
        "\n",
        "\n",
        "#         X_train  = scaler_x.fit_transform(X_train)\n",
        "#         X_val    = scaler_x.transform(X_val)               \n",
        "        \n",
        "        \n",
        "        model, train_predictions = train_RF(X_train, y_train, n_estimators, max_depth, min_samples_leaf)\n",
        "                \n",
        "        train_AUC.append(roc_auc_score(y_train, train_predictions))\n",
        "        \n",
        "        \n",
        "\n",
        "        val_predictions = model.predict_proba(X_val)\n",
        "        \n",
        "        \n",
        "        cv_metric = roc_auc_score(y_val, val_predictions[:,1])\n",
        "        cv_AUC.append(cv_metric)\n",
        "        \n",
        "        \n",
        "    print( 'Training   AUC  =', np.mean(np.array(train_AUC))  )    \n",
        "    \n",
        "        \n",
        "    return cv_AUC"
      ],
      "execution_count": 9,
      "outputs": []
    },
    {
      "cell_type": "code",
      "metadata": {
        "colab_type": "code",
        "id": "xsPct76If-wC",
        "colab": {}
      },
      "source": [
        "\n",
        "def RF_run(X, y, k_fold = 10, n_components = 4, n_models = 1):\n",
        "\n",
        "\n",
        "    \n",
        "    print( )\n",
        "    print('RANDOM FOREST')\n",
        "    print(\"N_components  = \", n_components)\n",
        "    print( )\n",
        "    \n",
        "    \n",
        "    for i in range(n_models):\n",
        "        \n",
        "        n_estimators      =  np.random.randint(1,20)\n",
        "        max_depth         =  np.random.randint(5,10)\n",
        "        min_samples_leaf  =  np.random.randint(3,10)        \n",
        "        \n",
        "        \n",
        "        n_estimators  =  10*n_estimators\n",
        "        \n",
        "        print(\"N_estimators       =\", n_estimators)\n",
        "        print(\"Max_depth          =\", max_depth)\n",
        "        print(\"Min sample leaf    =\", min_samples_leaf)\n",
        "        print( )\n",
        "\n",
        "        \n",
        "        cv_AUC = CV(X, y, k_fold, n_estimators, max_depth, min_samples_leaf, n_components)        \n",
        "        print(\"Cross val  AUC  =\", np.mean(np.array(cv_AUC)))\n",
        "        \n",
        "        print( )\n",
        "        print( )"
      ],
      "execution_count": 10,
      "outputs": []
    },
    {
      "cell_type": "markdown",
      "metadata": {
        "colab_type": "text",
        "id": "CUUnXJ7gf-wN"
      },
      "source": [
        "Let's run the model so we can find good hyperparameters."
      ]
    },
    {
      "cell_type": "code",
      "metadata": {
        "colab_type": "code",
        "id": "Pk_oCH91f-wO",
        "scrolled": false,
        "colab": {
          "base_uri": "https://localhost:8080/",
          "height": 226
        },
        "outputId": "129b56ca-4512-431b-ef6c-73e033c2e657"
      },
      "source": [
        "RF_run(X, y, k_fold = 10, n_components = 4, n_models = 1)"
      ],
      "execution_count": 11,
      "outputs": [
        {
          "output_type": "stream",
          "text": [
            "\n",
            "RANDOM FOREST\n",
            "N_components  =  4\n",
            "\n",
            "N_estimators       = 190\n",
            "Max_depth          = 8\n",
            "Min sample leaf    = 8\n",
            "\n",
            "Training   AUC  = 0.9619001093938824\n",
            "Cross val  AUC  = 0.8736521531634602\n",
            "\n",
            "\n"
          ],
          "name": "stdout"
        }
      ]
    },
    {
      "cell_type": "markdown",
      "metadata": {
        "colab_type": "text",
        "id": "ieEOnh24f-wW"
      },
      "source": [
        "As we can see some of these models have some overfitting, so in principle we have to run many more models in order to achieve a good performance. Usually, one way to go is to adjust the hyperparameters in the direction we notice an improvement. As we can notice, the RF_run function chooses the hyperparameters at random, so we should either adjust the ranges in the proper intervals or perform an exhaustive search, such as GRID SEARCH."
      ]
    },
    {
      "cell_type": "markdown",
      "metadata": {
        "colab_type": "text",
        "id": "7NkfgfN7f-wX"
      },
      "source": [
        "However, as you may notice, if you spend some time tuning the model, getting an AUC larger than 0.9 is quite challenguing, but that is part of the fun. Aditionally, I suggest you to choose a different number of components in PCA just to see what happens, and also it would be interesting to evaluate the model with/without standarizing the data (hint: just un/comment those lines in the CV function). Why do we see that behaviour regarding to standarization? Hint: Remember how tree-based models are trained, and how this is different from let's say linear regression or neural networks."
      ]
    },
    {
      "cell_type": "markdown",
      "metadata": {
        "colab_type": "text",
        "id": "3466dNTYf-wY"
      },
      "source": [
        "# Second part"
      ]
    },
    {
      "cell_type": "markdown",
      "metadata": {
        "colab_type": "text",
        "id": "8DY11kkhf-wa"
      },
      "source": [
        "In this second part we will review autoencoders. Autoencoders are a type of neural networks that let us detect anomalies in a very different way to what we have seen so far. The main difference is that we will NOT classify the points in a supervised mannner, like the random forest algorithm did, but rather, we will try to learn a representation of the data. With the latter, in principle, we will be able to spot anomalies because these points have a fundamentally different structure, i.e. come from a different distribution. "
      ]
    },
    {
      "cell_type": "markdown",
      "metadata": {
        "colab_type": "text",
        "id": "fBWibJNUf-wc"
      },
      "source": [
        "For this task we will use a different dataset consisting of normal and fraud credit card transactions. The dataset ca be  found here: https://www.kaggle.com/mlg-ulb/creditcardfraud"
      ]
    },
    {
      "cell_type": "code",
      "metadata": {
        "colab_type": "code",
        "id": "PeRHKczwf-wh",
        "colab": {}
      },
      "source": [
        "df = pd.read_csv('creditcard.csv')"
      ],
      "execution_count": 12,
      "outputs": []
    },
    {
      "cell_type": "code",
      "metadata": {
        "colab_type": "code",
        "id": "AgO6cZBSf-wp",
        "colab": {
          "base_uri": "https://localhost:8080/",
          "height": 410
        },
        "outputId": "f5cb1813-ee2a-454f-9fe8-7d740cd765cc"
      },
      "source": [
        "df"
      ],
      "execution_count": 13,
      "outputs": [
        {
          "output_type": "execute_result",
          "data": {
            "text/html": [
              "<div>\n",
              "<style scoped>\n",
              "    .dataframe tbody tr th:only-of-type {\n",
              "        vertical-align: middle;\n",
              "    }\n",
              "\n",
              "    .dataframe tbody tr th {\n",
              "        vertical-align: top;\n",
              "    }\n",
              "\n",
              "    .dataframe thead th {\n",
              "        text-align: right;\n",
              "    }\n",
              "</style>\n",
              "<table border=\"1\" class=\"dataframe\">\n",
              "  <thead>\n",
              "    <tr style=\"text-align: right;\">\n",
              "      <th></th>\n",
              "      <th>Time</th>\n",
              "      <th>V1</th>\n",
              "      <th>V2</th>\n",
              "      <th>V3</th>\n",
              "      <th>V4</th>\n",
              "      <th>V5</th>\n",
              "      <th>V6</th>\n",
              "      <th>V7</th>\n",
              "      <th>V8</th>\n",
              "      <th>V9</th>\n",
              "      <th>V10</th>\n",
              "      <th>V11</th>\n",
              "      <th>V12</th>\n",
              "      <th>V13</th>\n",
              "      <th>V14</th>\n",
              "      <th>V15</th>\n",
              "      <th>V16</th>\n",
              "      <th>V17</th>\n",
              "      <th>V18</th>\n",
              "      <th>V19</th>\n",
              "      <th>V20</th>\n",
              "      <th>V21</th>\n",
              "      <th>V22</th>\n",
              "      <th>V23</th>\n",
              "      <th>V24</th>\n",
              "      <th>V25</th>\n",
              "      <th>V26</th>\n",
              "      <th>V27</th>\n",
              "      <th>V28</th>\n",
              "      <th>Amount</th>\n",
              "      <th>Class</th>\n",
              "    </tr>\n",
              "  </thead>\n",
              "  <tbody>\n",
              "    <tr>\n",
              "      <th>0</th>\n",
              "      <td>0.0</td>\n",
              "      <td>-1.359807</td>\n",
              "      <td>-0.072781</td>\n",
              "      <td>2.536347</td>\n",
              "      <td>1.378155</td>\n",
              "      <td>-0.338321</td>\n",
              "      <td>0.462388</td>\n",
              "      <td>0.239599</td>\n",
              "      <td>0.098698</td>\n",
              "      <td>0.363787</td>\n",
              "      <td>0.090794</td>\n",
              "      <td>-0.551600</td>\n",
              "      <td>-0.617801</td>\n",
              "      <td>-0.991390</td>\n",
              "      <td>-0.311169</td>\n",
              "      <td>1.468177</td>\n",
              "      <td>-0.470401</td>\n",
              "      <td>0.207971</td>\n",
              "      <td>0.025791</td>\n",
              "      <td>0.403993</td>\n",
              "      <td>0.251412</td>\n",
              "      <td>-0.018307</td>\n",
              "      <td>0.277838</td>\n",
              "      <td>-0.110474</td>\n",
              "      <td>0.066928</td>\n",
              "      <td>0.128539</td>\n",
              "      <td>-0.189115</td>\n",
              "      <td>0.133558</td>\n",
              "      <td>-0.021053</td>\n",
              "      <td>149.62</td>\n",
              "      <td>0</td>\n",
              "    </tr>\n",
              "    <tr>\n",
              "      <th>1</th>\n",
              "      <td>0.0</td>\n",
              "      <td>1.191857</td>\n",
              "      <td>0.266151</td>\n",
              "      <td>0.166480</td>\n",
              "      <td>0.448154</td>\n",
              "      <td>0.060018</td>\n",
              "      <td>-0.082361</td>\n",
              "      <td>-0.078803</td>\n",
              "      <td>0.085102</td>\n",
              "      <td>-0.255425</td>\n",
              "      <td>-0.166974</td>\n",
              "      <td>1.612727</td>\n",
              "      <td>1.065235</td>\n",
              "      <td>0.489095</td>\n",
              "      <td>-0.143772</td>\n",
              "      <td>0.635558</td>\n",
              "      <td>0.463917</td>\n",
              "      <td>-0.114805</td>\n",
              "      <td>-0.183361</td>\n",
              "      <td>-0.145783</td>\n",
              "      <td>-0.069083</td>\n",
              "      <td>-0.225775</td>\n",
              "      <td>-0.638672</td>\n",
              "      <td>0.101288</td>\n",
              "      <td>-0.339846</td>\n",
              "      <td>0.167170</td>\n",
              "      <td>0.125895</td>\n",
              "      <td>-0.008983</td>\n",
              "      <td>0.014724</td>\n",
              "      <td>2.69</td>\n",
              "      <td>0</td>\n",
              "    </tr>\n",
              "    <tr>\n",
              "      <th>2</th>\n",
              "      <td>1.0</td>\n",
              "      <td>-1.358354</td>\n",
              "      <td>-1.340163</td>\n",
              "      <td>1.773209</td>\n",
              "      <td>0.379780</td>\n",
              "      <td>-0.503198</td>\n",
              "      <td>1.800499</td>\n",
              "      <td>0.791461</td>\n",
              "      <td>0.247676</td>\n",
              "      <td>-1.514654</td>\n",
              "      <td>0.207643</td>\n",
              "      <td>0.624501</td>\n",
              "      <td>0.066084</td>\n",
              "      <td>0.717293</td>\n",
              "      <td>-0.165946</td>\n",
              "      <td>2.345865</td>\n",
              "      <td>-2.890083</td>\n",
              "      <td>1.109969</td>\n",
              "      <td>-0.121359</td>\n",
              "      <td>-2.261857</td>\n",
              "      <td>0.524980</td>\n",
              "      <td>0.247998</td>\n",
              "      <td>0.771679</td>\n",
              "      <td>0.909412</td>\n",
              "      <td>-0.689281</td>\n",
              "      <td>-0.327642</td>\n",
              "      <td>-0.139097</td>\n",
              "      <td>-0.055353</td>\n",
              "      <td>-0.059752</td>\n",
              "      <td>378.66</td>\n",
              "      <td>0</td>\n",
              "    </tr>\n",
              "    <tr>\n",
              "      <th>3</th>\n",
              "      <td>1.0</td>\n",
              "      <td>-0.966272</td>\n",
              "      <td>-0.185226</td>\n",
              "      <td>1.792993</td>\n",
              "      <td>-0.863291</td>\n",
              "      <td>-0.010309</td>\n",
              "      <td>1.247203</td>\n",
              "      <td>0.237609</td>\n",
              "      <td>0.377436</td>\n",
              "      <td>-1.387024</td>\n",
              "      <td>-0.054952</td>\n",
              "      <td>-0.226487</td>\n",
              "      <td>0.178228</td>\n",
              "      <td>0.507757</td>\n",
              "      <td>-0.287924</td>\n",
              "      <td>-0.631418</td>\n",
              "      <td>-1.059647</td>\n",
              "      <td>-0.684093</td>\n",
              "      <td>1.965775</td>\n",
              "      <td>-1.232622</td>\n",
              "      <td>-0.208038</td>\n",
              "      <td>-0.108300</td>\n",
              "      <td>0.005274</td>\n",
              "      <td>-0.190321</td>\n",
              "      <td>-1.175575</td>\n",
              "      <td>0.647376</td>\n",
              "      <td>-0.221929</td>\n",
              "      <td>0.062723</td>\n",
              "      <td>0.061458</td>\n",
              "      <td>123.50</td>\n",
              "      <td>0</td>\n",
              "    </tr>\n",
              "    <tr>\n",
              "      <th>4</th>\n",
              "      <td>2.0</td>\n",
              "      <td>-1.158233</td>\n",
              "      <td>0.877737</td>\n",
              "      <td>1.548718</td>\n",
              "      <td>0.403034</td>\n",
              "      <td>-0.407193</td>\n",
              "      <td>0.095921</td>\n",
              "      <td>0.592941</td>\n",
              "      <td>-0.270533</td>\n",
              "      <td>0.817739</td>\n",
              "      <td>0.753074</td>\n",
              "      <td>-0.822843</td>\n",
              "      <td>0.538196</td>\n",
              "      <td>1.345852</td>\n",
              "      <td>-1.119670</td>\n",
              "      <td>0.175121</td>\n",
              "      <td>-0.451449</td>\n",
              "      <td>-0.237033</td>\n",
              "      <td>-0.038195</td>\n",
              "      <td>0.803487</td>\n",
              "      <td>0.408542</td>\n",
              "      <td>-0.009431</td>\n",
              "      <td>0.798278</td>\n",
              "      <td>-0.137458</td>\n",
              "      <td>0.141267</td>\n",
              "      <td>-0.206010</td>\n",
              "      <td>0.502292</td>\n",
              "      <td>0.219422</td>\n",
              "      <td>0.215153</td>\n",
              "      <td>69.99</td>\n",
              "      <td>0</td>\n",
              "    </tr>\n",
              "    <tr>\n",
              "      <th>...</th>\n",
              "      <td>...</td>\n",
              "      <td>...</td>\n",
              "      <td>...</td>\n",
              "      <td>...</td>\n",
              "      <td>...</td>\n",
              "      <td>...</td>\n",
              "      <td>...</td>\n",
              "      <td>...</td>\n",
              "      <td>...</td>\n",
              "      <td>...</td>\n",
              "      <td>...</td>\n",
              "      <td>...</td>\n",
              "      <td>...</td>\n",
              "      <td>...</td>\n",
              "      <td>...</td>\n",
              "      <td>...</td>\n",
              "      <td>...</td>\n",
              "      <td>...</td>\n",
              "      <td>...</td>\n",
              "      <td>...</td>\n",
              "      <td>...</td>\n",
              "      <td>...</td>\n",
              "      <td>...</td>\n",
              "      <td>...</td>\n",
              "      <td>...</td>\n",
              "      <td>...</td>\n",
              "      <td>...</td>\n",
              "      <td>...</td>\n",
              "      <td>...</td>\n",
              "      <td>...</td>\n",
              "      <td>...</td>\n",
              "    </tr>\n",
              "    <tr>\n",
              "      <th>284802</th>\n",
              "      <td>172786.0</td>\n",
              "      <td>-11.881118</td>\n",
              "      <td>10.071785</td>\n",
              "      <td>-9.834783</td>\n",
              "      <td>-2.066656</td>\n",
              "      <td>-5.364473</td>\n",
              "      <td>-2.606837</td>\n",
              "      <td>-4.918215</td>\n",
              "      <td>7.305334</td>\n",
              "      <td>1.914428</td>\n",
              "      <td>4.356170</td>\n",
              "      <td>-1.593105</td>\n",
              "      <td>2.711941</td>\n",
              "      <td>-0.689256</td>\n",
              "      <td>4.626942</td>\n",
              "      <td>-0.924459</td>\n",
              "      <td>1.107641</td>\n",
              "      <td>1.991691</td>\n",
              "      <td>0.510632</td>\n",
              "      <td>-0.682920</td>\n",
              "      <td>1.475829</td>\n",
              "      <td>0.213454</td>\n",
              "      <td>0.111864</td>\n",
              "      <td>1.014480</td>\n",
              "      <td>-0.509348</td>\n",
              "      <td>1.436807</td>\n",
              "      <td>0.250034</td>\n",
              "      <td>0.943651</td>\n",
              "      <td>0.823731</td>\n",
              "      <td>0.77</td>\n",
              "      <td>0</td>\n",
              "    </tr>\n",
              "    <tr>\n",
              "      <th>284803</th>\n",
              "      <td>172787.0</td>\n",
              "      <td>-0.732789</td>\n",
              "      <td>-0.055080</td>\n",
              "      <td>2.035030</td>\n",
              "      <td>-0.738589</td>\n",
              "      <td>0.868229</td>\n",
              "      <td>1.058415</td>\n",
              "      <td>0.024330</td>\n",
              "      <td>0.294869</td>\n",
              "      <td>0.584800</td>\n",
              "      <td>-0.975926</td>\n",
              "      <td>-0.150189</td>\n",
              "      <td>0.915802</td>\n",
              "      <td>1.214756</td>\n",
              "      <td>-0.675143</td>\n",
              "      <td>1.164931</td>\n",
              "      <td>-0.711757</td>\n",
              "      <td>-0.025693</td>\n",
              "      <td>-1.221179</td>\n",
              "      <td>-1.545556</td>\n",
              "      <td>0.059616</td>\n",
              "      <td>0.214205</td>\n",
              "      <td>0.924384</td>\n",
              "      <td>0.012463</td>\n",
              "      <td>-1.016226</td>\n",
              "      <td>-0.606624</td>\n",
              "      <td>-0.395255</td>\n",
              "      <td>0.068472</td>\n",
              "      <td>-0.053527</td>\n",
              "      <td>24.79</td>\n",
              "      <td>0</td>\n",
              "    </tr>\n",
              "    <tr>\n",
              "      <th>284804</th>\n",
              "      <td>172788.0</td>\n",
              "      <td>1.919565</td>\n",
              "      <td>-0.301254</td>\n",
              "      <td>-3.249640</td>\n",
              "      <td>-0.557828</td>\n",
              "      <td>2.630515</td>\n",
              "      <td>3.031260</td>\n",
              "      <td>-0.296827</td>\n",
              "      <td>0.708417</td>\n",
              "      <td>0.432454</td>\n",
              "      <td>-0.484782</td>\n",
              "      <td>0.411614</td>\n",
              "      <td>0.063119</td>\n",
              "      <td>-0.183699</td>\n",
              "      <td>-0.510602</td>\n",
              "      <td>1.329284</td>\n",
              "      <td>0.140716</td>\n",
              "      <td>0.313502</td>\n",
              "      <td>0.395652</td>\n",
              "      <td>-0.577252</td>\n",
              "      <td>0.001396</td>\n",
              "      <td>0.232045</td>\n",
              "      <td>0.578229</td>\n",
              "      <td>-0.037501</td>\n",
              "      <td>0.640134</td>\n",
              "      <td>0.265745</td>\n",
              "      <td>-0.087371</td>\n",
              "      <td>0.004455</td>\n",
              "      <td>-0.026561</td>\n",
              "      <td>67.88</td>\n",
              "      <td>0</td>\n",
              "    </tr>\n",
              "    <tr>\n",
              "      <th>284805</th>\n",
              "      <td>172788.0</td>\n",
              "      <td>-0.240440</td>\n",
              "      <td>0.530483</td>\n",
              "      <td>0.702510</td>\n",
              "      <td>0.689799</td>\n",
              "      <td>-0.377961</td>\n",
              "      <td>0.623708</td>\n",
              "      <td>-0.686180</td>\n",
              "      <td>0.679145</td>\n",
              "      <td>0.392087</td>\n",
              "      <td>-0.399126</td>\n",
              "      <td>-1.933849</td>\n",
              "      <td>-0.962886</td>\n",
              "      <td>-1.042082</td>\n",
              "      <td>0.449624</td>\n",
              "      <td>1.962563</td>\n",
              "      <td>-0.608577</td>\n",
              "      <td>0.509928</td>\n",
              "      <td>1.113981</td>\n",
              "      <td>2.897849</td>\n",
              "      <td>0.127434</td>\n",
              "      <td>0.265245</td>\n",
              "      <td>0.800049</td>\n",
              "      <td>-0.163298</td>\n",
              "      <td>0.123205</td>\n",
              "      <td>-0.569159</td>\n",
              "      <td>0.546668</td>\n",
              "      <td>0.108821</td>\n",
              "      <td>0.104533</td>\n",
              "      <td>10.00</td>\n",
              "      <td>0</td>\n",
              "    </tr>\n",
              "    <tr>\n",
              "      <th>284806</th>\n",
              "      <td>172792.0</td>\n",
              "      <td>-0.533413</td>\n",
              "      <td>-0.189733</td>\n",
              "      <td>0.703337</td>\n",
              "      <td>-0.506271</td>\n",
              "      <td>-0.012546</td>\n",
              "      <td>-0.649617</td>\n",
              "      <td>1.577006</td>\n",
              "      <td>-0.414650</td>\n",
              "      <td>0.486180</td>\n",
              "      <td>-0.915427</td>\n",
              "      <td>-1.040458</td>\n",
              "      <td>-0.031513</td>\n",
              "      <td>-0.188093</td>\n",
              "      <td>-0.084316</td>\n",
              "      <td>0.041333</td>\n",
              "      <td>-0.302620</td>\n",
              "      <td>-0.660377</td>\n",
              "      <td>0.167430</td>\n",
              "      <td>-0.256117</td>\n",
              "      <td>0.382948</td>\n",
              "      <td>0.261057</td>\n",
              "      <td>0.643078</td>\n",
              "      <td>0.376777</td>\n",
              "      <td>0.008797</td>\n",
              "      <td>-0.473649</td>\n",
              "      <td>-0.818267</td>\n",
              "      <td>-0.002415</td>\n",
              "      <td>0.013649</td>\n",
              "      <td>217.00</td>\n",
              "      <td>0</td>\n",
              "    </tr>\n",
              "  </tbody>\n",
              "</table>\n",
              "<p>284807 rows × 31 columns</p>\n",
              "</div>"
            ],
            "text/plain": [
              "            Time         V1         V2  ...       V28  Amount  Class\n",
              "0            0.0  -1.359807  -0.072781  ... -0.021053  149.62      0\n",
              "1            0.0   1.191857   0.266151  ...  0.014724    2.69      0\n",
              "2            1.0  -1.358354  -1.340163  ... -0.059752  378.66      0\n",
              "3            1.0  -0.966272  -0.185226  ...  0.061458  123.50      0\n",
              "4            2.0  -1.158233   0.877737  ...  0.215153   69.99      0\n",
              "...          ...        ...        ...  ...       ...     ...    ...\n",
              "284802  172786.0 -11.881118  10.071785  ...  0.823731    0.77      0\n",
              "284803  172787.0  -0.732789  -0.055080  ... -0.053527   24.79      0\n",
              "284804  172788.0   1.919565  -0.301254  ... -0.026561   67.88      0\n",
              "284805  172788.0  -0.240440   0.530483  ...  0.104533   10.00      0\n",
              "284806  172792.0  -0.533413  -0.189733  ...  0.013649  217.00      0\n",
              "\n",
              "[284807 rows x 31 columns]"
            ]
          },
          "metadata": {
            "tags": []
          },
          "execution_count": 13
        }
      ]
    },
    {
      "cell_type": "code",
      "metadata": {
        "colab_type": "code",
        "id": "GImLy7S8f-wy",
        "colab": {}
      },
      "source": [
        "df.drop(columns = ['Time'], axis = 1, inplace = True)"
      ],
      "execution_count": 14,
      "outputs": []
    },
    {
      "cell_type": "code",
      "metadata": {
        "colab_type": "code",
        "id": "xPqPS9FEf-w7",
        "colab": {
          "base_uri": "https://localhost:8080/",
          "height": 69
        },
        "outputId": "d3915936-26d8-4af3-d3fa-d24ae736fbb5"
      },
      "source": [
        "df.Class.value_counts()"
      ],
      "execution_count": 15,
      "outputs": [
        {
          "output_type": "execute_result",
          "data": {
            "text/plain": [
              "0    284315\n",
              "1       492\n",
              "Name: Class, dtype: int64"
            ]
          },
          "metadata": {
            "tags": []
          },
          "execution_count": 15
        }
      ]
    },
    {
      "cell_type": "markdown",
      "metadata": {
        "colab_type": "text",
        "id": "e4JN0pSqf-x0"
      },
      "source": [
        "Again, we notice that the dataset is HIGHLY imabalanced, but maybe we can use this in our favour. So, the first thing we will do is to split the data into CLASSES. On one hand, we will have ALL the 'normal' transaction, and on the other we will have the fraud transactions. Why do we do this? Well, the big idea is that we will try to reconstruct the data, so we want the neural network to learn how to do it for 'normal' examples, while for fraud examples it will not be able to do it as well, and therefore we can detect, based on that reconstruction error, which are the anomalies."
      ]
    },
    {
      "cell_type": "code",
      "metadata": {
        "colab_type": "code",
        "id": "EFRUlImtf-x1",
        "colab": {}
      },
      "source": [
        "y = df.Class.copy() \n",
        "\n",
        "df.drop(columns = ['Class'], axis = 1 , inplace = True)\n",
        "\n",
        "X = df.copy()\n",
        "\n",
        "\n",
        "X = np.array(X)\n",
        "y = np.array(y)\n",
        "\n",
        "\n",
        "\n",
        "y_1 = y[y == 1]\n",
        "y_0 = y[y == 0]\n",
        "\n",
        "\n",
        "X_0 = X[y == 0]\n",
        "X_1 = X[y == 1]\n",
        "\n",
        "num_class_0_examples = X_0.shape[0]\n",
        "\n",
        "\n",
        "permutation = np.random.permutation(num_class_0_examples)   # Let's select, at random, 90% of the Class 0 examples\n",
        "indx_90 = int(num_class_0_examples*0.9)\n",
        "\n",
        "\n",
        "X_0_train = X_0[permutation[:indx_90]]\n",
        "X_0_val   = X_0[permutation[indx_90:]]\n",
        "\n",
        "\n",
        "\n",
        "y_0_train = y_0[permutation[:indx_90]]\n",
        "y_0_val   = y_0[permutation[indx_90:]]\n",
        "\n",
        "\n",
        "X_val = np.concatenate([X_1, X_0_val], axis = 0)\n",
        "y_val = np.concatenate([y_1, y_0_val], axis = 0)\n",
        "\n",
        "\n",
        "\n",
        "\n",
        "X_train = X_0_train.copy()  # These examples are all from Class 0, and we will use them to train the autoencoder\n",
        "y_train = y_0_train.copy()\n",
        "\n",
        "\n",
        "X_val   = X_val.copy()      # These array contains examples from both classes, and we will use it to determine the \n",
        "                            # threshold for the reconstruction error. Notice that we will split this set again, otherwise \n",
        "                            # data snooping could mislead our results.\n",
        "y_val   = y_val.copy()\n",
        "\n",
        "\n",
        "\n",
        "\n",
        "\n",
        "### We will use this function later\n",
        "\n",
        "def sigmoid(X):\n",
        "    return 1 / (1 + np.exp(-X))\n",
        "\n",
        "\n",
        "\n",
        "\n",
        "\n",
        "\n",
        "\n",
        "# Split the data to train and validate the autoencoder (AE)\n",
        "# X_train,  X_val_AE , y_train  , y_val_AE   =  train_test_split(X_train, y_train, test_size = 0.2)\n",
        "\n"
      ],
      "execution_count": 16,
      "outputs": []
    },
    {
      "cell_type": "markdown",
      "metadata": {
        "colab_type": "text",
        "id": "i0An2yRLf-x-"
      },
      "source": [
        "In the following cells we define the Auto Encoder model."
      ]
    },
    {
      "cell_type": "markdown",
      "metadata": {
        "colab_type": "text",
        "id": "7ALwT5HCf-yF"
      },
      "source": [
        ""
      ]
    },
    {
      "cell_type": "code",
      "metadata": {
        "colab_type": "code",
        "id": "XJuf7Cnrf-yG",
        "colab": {}
      },
      "source": [
        ""
      ],
      "execution_count": 16,
      "outputs": []
    },
    {
      "cell_type": "code",
      "metadata": {
        "colab_type": "code",
        "id": "B6SSVPm1f-yM",
        "colab": {}
      },
      "source": [
        "###   We define the AUTOENCODER class using Pytorch.\n",
        "\n",
        "\n",
        "\n",
        "\n",
        "class Model_AutoEncoder(nn.Module):\n",
        "    \n",
        "    \n",
        "    def __init__(self, in_features, hidden_units, Batch):\n",
        "        super(Model_AutoEncoder, self).__init__()\n",
        "        \n",
        "        self.linear_1        =  nn.Linear(in_features = in_features       , out_features = hidden_units     )\n",
        "        self.linear_2        =  nn.Linear(in_features = hidden_units      , out_features = hidden_units // 2)\n",
        "        self.linear_3        =  nn.Linear(in_features = hidden_units // 2 , out_features = hidden_units     )\n",
        "        self.linear_4        =  nn.Linear(in_features = hidden_units      , out_features = in_features      )\n",
        "        \n",
        "\n",
        "\n",
        "        self.in_features     =  in_features\n",
        "        self.costs           =  []\n",
        "        self.criterion       =  nn.MSELoss()\n",
        "        self.activation      =  nn.ReLU()\n",
        "        self.hidden_units    =  hidden_units\n",
        "        self.Batch           =  Batch\n",
        "        self.zeros           =  torch.zeros(self.in_features)\n",
        "        self.criterion_mean  =  nn.MSELoss()\n",
        "        self.reg_mean        =  0\n",
        "        self.batchnorm_1     =  nn.BatchNorm1d(num_features = self.hidden_units)\n",
        "        self.batchnorm_2     =  nn.BatchNorm1d(num_features = self.hidden_units // 2)\n",
        "        self.batchnorm_3     =  nn.BatchNorm1d(num_features = self.hidden_units)\n",
        "    \n",
        "\n",
        "        \n",
        "        \n",
        "    def forward(self, X):        \n",
        "\n",
        "        \n",
        "        output    =  self.linear_1(X)\n",
        "        if self.Batch:\n",
        "            output    =  self.batchnorm_1(output)\n",
        "        output_1  =  self.activation(output)\n",
        "        \n",
        "\n",
        "\n",
        "        output_encode    =  self.linear_2(output_1)\n",
        "        if self.Batch:\n",
        "            output_encode    =  self.batchnorm_2(output_encode)\n",
        "        output_2  =  self.activation(output_encode)\n",
        "\n",
        "\n",
        "\n",
        "        output    =  self.linear_3(output_2)\n",
        "        if self.Batch: \n",
        "            output    =  self.batchnorm_3(output)\n",
        "        output_3  =  self.activation(output)\n",
        "\n",
        "\n",
        "        output    =  self.linear_4(output_3)\n",
        "        \n",
        "    \n",
        "        return output, output_encode\n",
        "\n",
        "    \n",
        "    \n",
        "    \n",
        "    \n",
        "    def one_step_train(self, X_train, Y_train, optimizer):\n",
        "        \n",
        "        optimizer.zero_grad()\n",
        "        \n",
        "        output, _ =  self.forward(X_train)\n",
        "\n",
        "        loss   =  self.criterion(output, Y_train) #+ self.reg_mean * self.criterion_mean(torch.mean(output, dim = 0) , self.zeros)\n",
        "        \n",
        "        self.costs.append( self.in_features * loss.item() )\n",
        "        \n",
        "        loss.backward()\n",
        "    \n",
        "        optimizer.step()        \n",
        "        \n",
        "\n",
        "\n",
        "\n",
        "    def Train(self, X_train, Y_train, num_epochs, optimizer):\n",
        "                \n",
        "        for i in range(num_epochs):\n",
        "\n",
        "            # Since we have many examples, we will use mini batches for training\n",
        "            \n",
        "            loader = DataLoader(dataset = X_train, batch_size = 8192, shuffle = True)\n",
        "            \n",
        "            for X in loader:\n",
        "\n",
        "                self.one_step_train(X, X, optimizer)\n",
        "\n",
        "            if i % 50 == 0:\n",
        "                print(\"Epoch =\", i)\n",
        "\n",
        "            \n",
        "        plt.figure(\"Cost\")\n",
        "        plt.plot(self.costs)\n",
        "        \n",
        "        \n",
        "        \n",
        "        \n",
        "        \n",
        "    def predict(self, X):\n",
        "                \n",
        "        predictions, encoding  = self.forward(X)\n",
        "        \n",
        "        return predictions.detach(), encoding.detach()\n",
        "    \n",
        "    \n",
        "    \n",
        "    "
      ],
      "execution_count": 17,
      "outputs": []
    },
    {
      "cell_type": "code",
      "metadata": {
        "colab_type": "code",
        "id": "WlS7Qeg1f-yT",
        "colab": {}
      },
      "source": [
        "def train_AutoEncoder(X, y, num_epochs, learning_rate, reg_lambda, hidden_units, Batch, is_GPU_ON):\n",
        "    \n",
        "    device = None\n",
        "    in_features   =  X.shape[1]\n",
        "    \n",
        "    # Define model\n",
        "    \n",
        "    model         =  Model_AutoEncoder(in_features, hidden_units, Batch)   \n",
        "    optimizer     =  optim.Adam(model.parameters(), weight_decay = reg_lambda)#, lr = learning_rate)\n",
        "    \n",
        "    \n",
        "    \n",
        "    # USE GPU\n",
        "    \n",
        "    if is_GPU_ON:\n",
        "        \n",
        "        device = torch.device('cuda:0' if torch.cuda.is_available() else 'cpu')\n",
        "        print('Device:', device)\n",
        "        model.to(device)\n",
        "        \n",
        "        \n",
        "        X  =  X.to(device)\n",
        "        y  =  y.to(device)\n",
        "    \n",
        "        \n",
        "    \n",
        "    # Train the model\n",
        "    \n",
        "    initial_time = time.time()\n",
        "    \n",
        "    model.Train(X_train = X, Y_train = y, num_epochs = num_epochs, optimizer = optimizer)\n",
        "    \n",
        "    final_time = time.time()\n",
        "    print(\"Training time  =\", final_time - initial_time)\n",
        "    \n",
        "    # Set the model to evaluation. Important if we use BatchNorm or Dropout\n",
        "    \n",
        "    model.eval()\n",
        "    \n",
        "    # Predict on training examples\n",
        "    \n",
        "    train_pred, train_encoding = model.predict(X)\n",
        "    \n",
        "    # MSE for training examples\n",
        "    \n",
        "    train_MSE = mean_squared_error(y.cpu().numpy(), train_pred.cpu().numpy()) * in_features\n",
        "    print(\"Training MSE   =\", train_MSE)    \n",
        "        \n",
        "        \n",
        "    \n",
        "    return train_pred, train_encoding, model, in_features, device\n",
        "\n",
        "\n"
      ],
      "execution_count": 18,
      "outputs": []
    },
    {
      "cell_type": "code",
      "metadata": {
        "colab_type": "code",
        "id": "i5wn8JWZf-yZ",
        "colab": {}
      },
      "source": [
        "def AutoEncoder(X, y, num_epochs, learning_rate, reg_lambda, hidden_units, Batch, is_GPU_ON):\n",
        "\n",
        "    \n",
        "    # Print hyperparameters\n",
        "    \n",
        "    print('Num epochs   =', num_epochs)\n",
        "    print('Lambda reg   =', reg_lambda)\n",
        "    print(\"Hidden units =\", hidden_units)\n",
        "    print(\"Batch        =\", Batch)\n",
        "    print( )\n",
        "    \n",
        "    \n",
        "    \n",
        "    # Split the data, and standarize it, to train and validate the autoencoder (AE)\n",
        "\n",
        "    # Notice we have defined two scalers (although certainly we only need one), the reason for this is that we can recycle this function\n",
        "    # for other type of neural networks. For example, regression problem where the output is different from the input.\n",
        "\n",
        "    X_train,  X_val_AE , y_train  , y_val_AE   =  train_test_split(X, y, test_size = 0.2)\n",
        "    \n",
        "    scaler_x = StandardScaler()\n",
        "    scaler_y = StandardScaler()\n",
        "    \n",
        "    \n",
        "    X_train  = scaler_x.fit_transform(X_train)\n",
        "    X_val_AE = scaler_x.transform(X_val_AE)\n",
        "\n",
        "    \n",
        "    y_train  = scaler_y.fit_transform(y_train)\n",
        "    y_val_AE = scaler_y.transform(y_val_AE)\n",
        "    \n",
        "    \n",
        "    \n",
        "    # Convert to torch tensors \n",
        "\n",
        "    X_train = torch.from_numpy(X_train.astype(np.float32))\n",
        "    y_train = torch.from_numpy(y_train.astype(np.float32))\n",
        "    \n",
        "    \n",
        "    X_val_AE = torch.from_numpy(X_val_AE.astype(np.float32))\n",
        "    y_val_AE = torch.from_numpy(y_val_AE.astype(np.float32))\n",
        "    \n",
        "    \n",
        "    # Train the model\n",
        "    \n",
        "    train_pred, train_encoding, model, in_features, device = train_AutoEncoder(X_train, y_train, num_epochs, learning_rate, \n",
        "                                                                                         reg_lambda, hidden_units, Batch, is_GPU_ON)\n",
        "    \n",
        "    \n",
        "    \n",
        "    \n",
        "    # USE GPU\n",
        "    \n",
        "    \n",
        "    if is_GPU_ON:    \n",
        "    \n",
        "        X_val_AE = X_val_AE.to(device)\n",
        "        y_val_AE = y_val_AE.to(device)\n",
        "    \n",
        "    \n",
        "    \n",
        "    # Predict on validation set\n",
        "    \n",
        "    val_pred, val_encoding = model.predict(X_val_AE)\n",
        "    \n",
        "    \n",
        "    # MSE for validation set\n",
        "    \n",
        "    val_MSE = mean_squared_error(y_val_AE.cpu().numpy(), val_pred.cpu().numpy()) * in_features    \n",
        "    print(\"Validation MSE =\", val_MSE)\n",
        "\n",
        "    \n",
        "    \n",
        "    print( )\n",
        "    print( )\n",
        "\n",
        "    return train_pred.cpu().numpy(), val_pred.cpu().numpy(), train_encoding.cpu().numpy(), val_encoding.cpu().numpy(), scaler_x, scaler_y, model, device\n"
      ],
      "execution_count": 19,
      "outputs": []
    },
    {
      "cell_type": "code",
      "metadata": {
        "colab_type": "code",
        "id": "KftZhtKEf-yk",
        "colab": {
          "base_uri": "https://localhost:8080/",
          "height": 578
        },
        "outputId": "327fa252-5d14-4097-e64b-e8180570dd0f"
      },
      "source": [
        "train_pred, val_AE_pred, _, _, scaler_x, _, model, device = AutoEncoder(X = X_train, y = X_train, num_epochs = 301, \n",
        "                                                           learning_rate = 0, reg_lambda = 0, \n",
        "                                                           hidden_units = 50, Batch = True, is_GPU_ON = True)\n"
      ],
      "execution_count": 20,
      "outputs": [
        {
          "output_type": "stream",
          "text": [
            "Num epochs   = 301\n",
            "Lambda reg   = 0\n",
            "Hidden units = 50\n",
            "Batch        = True\n",
            "\n",
            "Device: cuda:0\n",
            "Epoch = 0\n",
            "Epoch = 50\n",
            "Epoch = 100\n",
            "Epoch = 150\n",
            "Epoch = 200\n",
            "Epoch = 250\n",
            "Epoch = 300\n",
            "Training time  = 222.60226321220398\n",
            "Training MSE   = 0.2109252973459661\n",
            "Validation MSE = 0.21003168541938066\n",
            "\n",
            "\n"
          ],
          "name": "stdout"
        },
        {
          "output_type": "display_data",
          "data": {
            "image/png": "[encoded data removed]",
            "text/plain": [
              "<Figure size 432x288 with 1 Axes>"
            ]
          },
          "metadata": {
            "tags": [],
            "needs_background": "light"
          }
        }
      ]
    },
    {
      "cell_type": "markdown",
      "metadata": {
        "colab_type": "text",
        "id": "w1yo4qojoXiB"
      },
      "source": [
        "Now that the autoencoder is trained, we will use the sets called X_val, y_val, which have examples from both classes."
      ]
    },
    {
      "cell_type": "code",
      "metadata": {
        "colab_type": "code",
        "id": "F2emyy3Zf-y2",
        "colab": {
          "base_uri": "https://localhost:8080/",
          "height": 34
        },
        "outputId": "01700314-8694-4d7c-ada4-a477aa1ea8fe"
      },
      "source": [
        "print(y_val)\n",
        "y = y_val.copy()"
      ],
      "execution_count": 21,
      "outputs": [
        {
          "output_type": "stream",
          "text": [
            "[1 1 1 ... 0 0 0]\n"
          ],
          "name": "stdout"
        }
      ]
    },
    {
      "cell_type": "markdown",
      "metadata": {
        "colab_type": "text",
        "id": "TFv3z7VoqR_9"
      },
      "source": [
        "However, since we have to do some more training, in order to find the best threshold, we will once again split the sets into training and validation sets. Just one detail before doing the latter, since we trained the autoencoder in normalizaed data, we will normalize X_val using the \"scaler\" that was fit in the \"AutoEncoder\" function. "
      ]
    },
    {
      "cell_type": "code",
      "metadata": {
        "colab_type": "code",
        "id": "saKWQ-UEf-zI",
        "colab": {}
      },
      "source": [
        "X = scaler_x.transform(X_val)\n",
        "X = torch.from_numpy(X.astype(np.float32))\n",
        "X = X.to(device)"
      ],
      "execution_count": 22,
      "outputs": []
    },
    {
      "cell_type": "code",
      "metadata": {
        "colab_type": "code",
        "id": "vpgtPYTksTH-",
        "colab": {}
      },
      "source": [
        "X_train_T, X_val_T, y_train_T, y_val_T = train_test_split(X, y, test_size = 0.2)   ### The \"T\" stands for threshold\n",
        "\n",
        "train_pred_T, _ =  model.predict(X_train_T)\n",
        "val_pred_T, _   =  model.predict(X_val_T  )\n"
      ],
      "execution_count": 23,
      "outputs": []
    },
    {
      "cell_type": "code",
      "metadata": {
        "colab_type": "code",
        "id": "qei8rkltf-zP",
        "colab": {}
      },
      "source": [
        "def predict_Anomalies(predictions, X, y, threshold):\n",
        "    '''We will calculate the reconstruction error to determine which points are \"normal\" and which ones are anomalies.\n",
        "    Additionally, we will plot the distribution of the reconstruction errors, so we can see how anomalies\n",
        "    usually have larger erros '''\n",
        "    \n",
        "    \n",
        "    sq_difference = torch.sum( (predictions -  X)**2, dim = 1, keepdim = True)\n",
        "    sq_difference = sq_difference.cpu().numpy()\n",
        "    sq_difference = np.sqrt(sq_difference)    \n",
        "    \n",
        "\n",
        "\n",
        "    plt.figure(\"Distribution of errors\", figsize = (7,7))\n",
        "    plt.title(\"Distribution of errors\")\n",
        "    sns.distplot(sq_difference)\n",
        "    plt.xlabel(\"Reconstruction error\")\n",
        "    print( )\n",
        "    print( )\n",
        "\n",
        "    plt.figure(\"Scatterplot of errors\", figsize = (7,7))\n",
        "    plt.title(\"Scatterplot of errors\")\n",
        "    sns.scatterplot(sq_difference[:,0], sq_difference[:,0], hue = y, alpha=0.8)\n",
        "    plt.xlabel(\"Reconstruction error\")\n",
        "    plt.ylabel(\"Reconstruction error\")\n",
        "\n",
        "    \n",
        "    # y_prob = (    sigmoid(sq_difference - threshold)   )  \n",
        "    \n",
        "    # print(y_prob.shape)\n",
        "    \n",
        "    # plt.figure(\"Distribution of probabilities\")\n",
        "    # sns.distplot(y_prob)    \n",
        "    \n",
        "    # train_ROC_AUC = roc_auc_score(y, y_prob[:,0])\n",
        "    # print(\"Training   AUC =\", train_ROC_AUC )\n",
        "            \n",
        "    \n",
        "    \n",
        "    return sq_difference#, y_prob\n",
        "\n"
      ],
      "execution_count": 24,
      "outputs": []
    },
    {
      "cell_type": "code",
      "metadata": {
        "colab_type": "code",
        "id": "lW1Myrrrf-zZ",
        "colab": {
          "base_uri": "https://localhost:8080/",
          "height": 934
        },
        "outputId": "44347226-16e6-480d-c071-e6f15c8672c0"
      },
      "source": [
        "sq_difference_train = predict_Anomalies(train_pred_T, X_train_T, y_train_T, threshold = 3)"
      ],
      "execution_count": 25,
      "outputs": [
        {
          "output_type": "stream",
          "text": [
            "\n",
            "\n"
          ],
          "name": "stdout"
        },
        {
          "output_type": "display_data",
          "data": {
            "image/png": "[encoded data removed]",
            "text/plain": [
              "<Figure size 504x504 with 1 Axes>"
            ]
          },
          "metadata": {
            "tags": [],
            "needs_background": "light"
          }
        },
        {
          "output_type": "display_data",
          "data": {
            "image/png": "[encoded data removed]",
            "text/plain": [
              "<Figure size 504x504 with 1 Axes>"
            ]
          },
          "metadata": {
            "tags": [],
            "needs_background": "light"
          }
        }
      ]
    },
    {
      "cell_type": "code",
      "metadata": {
        "colab_type": "code",
        "id": "j-kXhUTRf-z5",
        "colab": {
          "base_uri": "https://localhost:8080/",
          "height": 296
        },
        "outputId": "34a85dd5-4ce3-47c3-c2d0-c7b7793ec9eb"
      },
      "source": [
        "threshold = 2\n",
        "train_pred_CLASS = (sq_difference_train > threshold).astype(int)\n",
        "\n",
        "CR = classification_report(y_train_T, train_pred_CLASS)\n",
        "\n",
        "CM = confusion_matrix(y_train_T, train_pred_CLASS)\n",
        "\n",
        "plt.figure(\"Confusion Matrix\")\n",
        "sns.heatmap(CM, annot = True, fmt=\"d\", center = 10000)\n",
        "plt.xlabel(\"Predictions\")\n",
        "plt.ylabel(\"True labels\")\n",
        "print()"
      ],
      "execution_count": 26,
      "outputs": [
        {
          "output_type": "stream",
          "text": [
            "\n"
          ],
          "name": "stdout"
        },
        {
          "output_type": "display_data",
          "data": {
            "image/png": "[encoded data removed]",
            "text/plain": [
              "<Figure size 432x288 with 2 Axes>"
            ]
          },
          "metadata": {
            "tags": [],
            "needs_background": "light"
          }
        }
      ]
    },
    {
      "cell_type": "markdown",
      "metadata": {
        "colab_type": "text",
        "id": "xTNCLlX3BAGn"
      },
      "source": [
        "So, from the confusion matrix we can notice the following rate:"
      ]
    },
    {
      "cell_type": "markdown",
      "metadata": {
        "colab_type": "text",
        "id": "BCvPIGViA-JF"
      },
      "source": [
        "TPR = TP / ( TP + FN ),"
      ]
    },
    {
      "cell_type": "markdown",
      "metadata": {
        "colab_type": "text",
        "id": "0hlebqvREgLW"
      },
      "source": [
        "which is known as the true positive rate (TPR), and, more importantly, is the quantity we would like to maximize. Or, in other words, we want to minimize the False Negatives, because we DO NOT want our algorithm to predict that some transaction is NOT a fraud when IT IS! A subtle detail, we should be very careful to NOT predict everything as a FRAUD, even thought it maximizes TPR. We have to find a balance, usually defined by the cost of calling to each client to verify their transactions."
      ]
    },
    {
      "cell_type": "markdown",
      "metadata": {
        "colab_type": "text",
        "id": "KkBT3rJ0MY7o"
      },
      "source": [
        "For the purposes of this notebook, let's assume we cannot afford to have more than (approximately) 200 False Positives. What I want you to notice here is that we should only optimize one metric (whatever we think is the most important for our purposes), while other error measures (if any other relevant) can be treated as constraints. "
      ]
    },
    {
      "cell_type": "code",
      "metadata": {
        "colab_type": "code",
        "id": "BkFBJ_etAtIO",
        "colab": {
          "base_uri": "https://localhost:8080/",
          "height": 34
        },
        "outputId": "1e27c4ab-6723-4f84-d3ba-520225ef77d2"
      },
      "source": [
        "TPR = CM[1,1] / (CM[1,1] + CM[1,0] )\n",
        "print(\"Training TPR = \", TPR)"
      ],
      "execution_count": 27,
      "outputs": [
        {
          "output_type": "stream",
          "text": [
            "Training TPR =  0.7929292929292929\n"
          ],
          "name": "stdout"
        }
      ]
    },
    {
      "cell_type": "markdown",
      "metadata": {
        "colab_type": "text",
        "id": "Bzg2Tm4I0jwO"
      },
      "source": [
        "So far, we have achieved a TPR of approxiamtely 0.8, which means that we are classifying correctly 80% of the frauds. An even better option is to come up with a metric that combines all the errors we want to minimize. Luckily for us, for this task exist an ideal candidate, the F1 score. The F1 score is the harmonic mean of 'precision' and 'recall', and, just for completeness, let's remember what these names mean.\n",
        "\n",
        "Precision = TP / (TP + FP)\n",
        "\n",
        "Recall    = TP / (TP + FN)\n",
        "\n",
        "Then for our problem we have:\n",
        "\n",
        "\n"
      ]
    },
    {
      "cell_type": "code",
      "metadata": {
        "id": "hFtU3S-KwzPx",
        "colab_type": "code",
        "colab": {
          "base_uri": "https://localhost:8080/",
          "height": 34
        },
        "outputId": "2c457e18-5cf4-4ecf-e91b-cb569369c87c"
      },
      "source": [
        "train_f1_score = f1_score(y_train_T, train_pred_CLASS)\n",
        "print(\"Training F1 score =\", train_f1_score)"
      ],
      "execution_count": 28,
      "outputs": [
        {
          "output_type": "stream",
          "text": [
            "Training F1 score = 0.8103225806451614\n"
          ],
          "name": "stdout"
        }
      ]
    },
    {
      "cell_type": "markdown",
      "metadata": {
        "id": "qKKnw3rWwMJt",
        "colab_type": "text"
      },
      "source": [
        "To finalize this section let's get the TPR and F1 score for the validation set X_val_T."
      ]
    },
    {
      "cell_type": "code",
      "metadata": {
        "colab_type": "code",
        "id": "7FNF47VL1ABM",
        "colab": {
          "base_uri": "https://localhost:8080/",
          "height": 934
        },
        "outputId": "d76cc6ae-23e3-4973-8cbb-268645557c44"
      },
      "source": [
        "sq_difference_val = predict_Anomalies(val_pred_T, X_val_T, y_val_T, threshold = 2)"
      ],
      "execution_count": 29,
      "outputs": [
        {
          "output_type": "stream",
          "text": [
            "\n",
            "\n"
          ],
          "name": "stdout"
        },
        {
          "output_type": "display_data",
          "data": {
            "image/png": "[encoded data removed]",
            "text/plain": [
              "<Figure size 504x504 with 1 Axes>"
            ]
          },
          "metadata": {
            "tags": [],
            "needs_background": "light"
          }
        },
        {
          "output_type": "display_data",
          "data": {
            "image/png": "[encoded data removed]",
            "text/plain": [
              "<Figure size 504x504 with 1 Axes>"
            ]
          },
          "metadata": {
            "tags": [],
            "needs_background": "light"
          }
        }
      ]
    },
    {
      "cell_type": "code",
      "metadata": {
        "colab_type": "code",
        "id": "DoAUfrqj1YTG",
        "colab": {
          "base_uri": "https://localhost:8080/",
          "height": 296
        },
        "outputId": "14aac47f-a9d4-468b-8214-1e4f6c67a8af"
      },
      "source": [
        "threshold = 2\n",
        "val_pred_CLASS = (sq_difference_val > threshold).astype(int)\n",
        "\n",
        "CR = classification_report(y_val_T, val_pred_CLASS)\n",
        "\n",
        "CM = confusion_matrix(y_val_T, val_pred_CLASS)\n",
        "\n",
        "plt.figure(\"Confusion Matrix\")\n",
        "sns.heatmap(CM, annot = True, fmt=\"d\", center = 2000)\n",
        "plt.xlabel(\"Predictions\")\n",
        "plt.ylabel(\"True labels\")\n",
        "print()"
      ],
      "execution_count": 30,
      "outputs": [
        {
          "output_type": "stream",
          "text": [
            "\n"
          ],
          "name": "stdout"
        },
        {
          "output_type": "display_data",
          "data": {
            "image/png": "[encoded data removed]",
            "text/plain": [
              "<Figure size 432x288 with 2 Axes>"
            ]
          },
          "metadata": {
            "tags": [],
            "needs_background": "light"
          }
        }
      ]
    },
    {
      "cell_type": "code",
      "metadata": {
        "colab_type": "code",
        "id": "3PVKfK1u1cKv",
        "colab": {
          "base_uri": "https://localhost:8080/",
          "height": 52
        },
        "outputId": "77e510f7-e2f4-40db-e09a-4ee087123528"
      },
      "source": [
        "TPR = CM[1,1] / (CM[1,1] + CM[1,0] )\n",
        "val_f1_score = f1_score(y_val_T, val_pred_CLASS)\n",
        "print(\"Validation TPR = \", TPR)\n",
        "print(\"Validation F1 score =\", val_f1_score)"
      ],
      "execution_count": 31,
      "outputs": [
        {
          "output_type": "stream",
          "text": [
            "Validation TPR =  0.8229166666666666\n",
            "Validation F1 score = 0.8186528497409326\n"
          ],
          "name": "stdout"
        }
      ]
    },
    {
      "cell_type": "markdown",
      "metadata": {
        "colab_type": "text",
        "id": "Isb9YhKMCajI"
      },
      "source": [
        "# Last part"
      ]
    },
    {
      "cell_type": "markdown",
      "metadata": {
        "colab_type": "text",
        "id": "uk9eszOrCc7k"
      },
      "source": [
        "For the last part, we will train an isolation forest algorithm in the same dataset we used for the autoencoder. Just in case you skipped the last section let's load the data again."
      ]
    },
    {
      "cell_type": "code",
      "metadata": {
        "colab_type": "code",
        "id": "Xb4NHtv-CoJD",
        "colab": {}
      },
      "source": [
        "df = pd.read_csv('creditcard.csv')\n",
        "df.drop(columns = [\"Time\"], axis = 1, inplace=True )"
      ],
      "execution_count": 32,
      "outputs": []
    },
    {
      "cell_type": "code",
      "metadata": {
        "colab_type": "code",
        "id": "D5SwSKetCouO",
        "colab": {
          "base_uri": "https://localhost:8080/",
          "height": 410
        },
        "outputId": "bf0a4008-0a83-4b3c-a0e1-3a87ca57d0e3"
      },
      "source": [
        "df"
      ],
      "execution_count": 33,
      "outputs": [
        {
          "output_type": "execute_result",
          "data": {
            "text/html": [
              "<div>\n",
              "<style scoped>\n",
              "    .dataframe tbody tr th:only-of-type {\n",
              "        vertical-align: middle;\n",
              "    }\n",
              "\n",
              "    .dataframe tbody tr th {\n",
              "        vertical-align: top;\n",
              "    }\n",
              "\n",
              "    .dataframe thead th {\n",
              "        text-align: right;\n",
              "    }\n",
              "</style>\n",
              "<table border=\"1\" class=\"dataframe\">\n",
              "  <thead>\n",
              "    <tr style=\"text-align: right;\">\n",
              "      <th></th>\n",
              "      <th>V1</th>\n",
              "      <th>V2</th>\n",
              "      <th>V3</th>\n",
              "      <th>V4</th>\n",
              "      <th>V5</th>\n",
              "      <th>V6</th>\n",
              "      <th>V7</th>\n",
              "      <th>V8</th>\n",
              "      <th>V9</th>\n",
              "      <th>V10</th>\n",
              "      <th>V11</th>\n",
              "      <th>V12</th>\n",
              "      <th>V13</th>\n",
              "      <th>V14</th>\n",
              "      <th>V15</th>\n",
              "      <th>V16</th>\n",
              "      <th>V17</th>\n",
              "      <th>V18</th>\n",
              "      <th>V19</th>\n",
              "      <th>V20</th>\n",
              "      <th>V21</th>\n",
              "      <th>V22</th>\n",
              "      <th>V23</th>\n",
              "      <th>V24</th>\n",
              "      <th>V25</th>\n",
              "      <th>V26</th>\n",
              "      <th>V27</th>\n",
              "      <th>V28</th>\n",
              "      <th>Amount</th>\n",
              "      <th>Class</th>\n",
              "    </tr>\n",
              "  </thead>\n",
              "  <tbody>\n",
              "    <tr>\n",
              "      <th>0</th>\n",
              "      <td>-1.359807</td>\n",
              "      <td>-0.072781</td>\n",
              "      <td>2.536347</td>\n",
              "      <td>1.378155</td>\n",
              "      <td>-0.338321</td>\n",
              "      <td>0.462388</td>\n",
              "      <td>0.239599</td>\n",
              "      <td>0.098698</td>\n",
              "      <td>0.363787</td>\n",
              "      <td>0.090794</td>\n",
              "      <td>-0.551600</td>\n",
              "      <td>-0.617801</td>\n",
              "      <td>-0.991390</td>\n",
              "      <td>-0.311169</td>\n",
              "      <td>1.468177</td>\n",
              "      <td>-0.470401</td>\n",
              "      <td>0.207971</td>\n",
              "      <td>0.025791</td>\n",
              "      <td>0.403993</td>\n",
              "      <td>0.251412</td>\n",
              "      <td>-0.018307</td>\n",
              "      <td>0.277838</td>\n",
              "      <td>-0.110474</td>\n",
              "      <td>0.066928</td>\n",
              "      <td>0.128539</td>\n",
              "      <td>-0.189115</td>\n",
              "      <td>0.133558</td>\n",
              "      <td>-0.021053</td>\n",
              "      <td>149.62</td>\n",
              "      <td>0</td>\n",
              "    </tr>\n",
              "    <tr>\n",
              "      <th>1</th>\n",
              "      <td>1.191857</td>\n",
              "      <td>0.266151</td>\n",
              "      <td>0.166480</td>\n",
              "      <td>0.448154</td>\n",
              "      <td>0.060018</td>\n",
              "      <td>-0.082361</td>\n",
              "      <td>-0.078803</td>\n",
              "      <td>0.085102</td>\n",
              "      <td>-0.255425</td>\n",
              "      <td>-0.166974</td>\n",
              "      <td>1.612727</td>\n",
              "      <td>1.065235</td>\n",
              "      <td>0.489095</td>\n",
              "      <td>-0.143772</td>\n",
              "      <td>0.635558</td>\n",
              "      <td>0.463917</td>\n",
              "      <td>-0.114805</td>\n",
              "      <td>-0.183361</td>\n",
              "      <td>-0.145783</td>\n",
              "      <td>-0.069083</td>\n",
              "      <td>-0.225775</td>\n",
              "      <td>-0.638672</td>\n",
              "      <td>0.101288</td>\n",
              "      <td>-0.339846</td>\n",
              "      <td>0.167170</td>\n",
              "      <td>0.125895</td>\n",
              "      <td>-0.008983</td>\n",
              "      <td>0.014724</td>\n",
              "      <td>2.69</td>\n",
              "      <td>0</td>\n",
              "    </tr>\n",
              "    <tr>\n",
              "      <th>2</th>\n",
              "      <td>-1.358354</td>\n",
              "      <td>-1.340163</td>\n",
              "      <td>1.773209</td>\n",
              "      <td>0.379780</td>\n",
              "      <td>-0.503198</td>\n",
              "      <td>1.800499</td>\n",
              "      <td>0.791461</td>\n",
              "      <td>0.247676</td>\n",
              "      <td>-1.514654</td>\n",
              "      <td>0.207643</td>\n",
              "      <td>0.624501</td>\n",
              "      <td>0.066084</td>\n",
              "      <td>0.717293</td>\n",
              "      <td>-0.165946</td>\n",
              "      <td>2.345865</td>\n",
              "      <td>-2.890083</td>\n",
              "      <td>1.109969</td>\n",
              "      <td>-0.121359</td>\n",
              "      <td>-2.261857</td>\n",
              "      <td>0.524980</td>\n",
              "      <td>0.247998</td>\n",
              "      <td>0.771679</td>\n",
              "      <td>0.909412</td>\n",
              "      <td>-0.689281</td>\n",
              "      <td>-0.327642</td>\n",
              "      <td>-0.139097</td>\n",
              "      <td>-0.055353</td>\n",
              "      <td>-0.059752</td>\n",
              "      <td>378.66</td>\n",
              "      <td>0</td>\n",
              "    </tr>\n",
              "    <tr>\n",
              "      <th>3</th>\n",
              "      <td>-0.966272</td>\n",
              "      <td>-0.185226</td>\n",
              "      <td>1.792993</td>\n",
              "      <td>-0.863291</td>\n",
              "      <td>-0.010309</td>\n",
              "      <td>1.247203</td>\n",
              "      <td>0.237609</td>\n",
              "      <td>0.377436</td>\n",
              "      <td>-1.387024</td>\n",
              "      <td>-0.054952</td>\n",
              "      <td>-0.226487</td>\n",
              "      <td>0.178228</td>\n",
              "      <td>0.507757</td>\n",
              "      <td>-0.287924</td>\n",
              "      <td>-0.631418</td>\n",
              "      <td>-1.059647</td>\n",
              "      <td>-0.684093</td>\n",
              "      <td>1.965775</td>\n",
              "      <td>-1.232622</td>\n",
              "      <td>-0.208038</td>\n",
              "      <td>-0.108300</td>\n",
              "      <td>0.005274</td>\n",
              "      <td>-0.190321</td>\n",
              "      <td>-1.175575</td>\n",
              "      <td>0.647376</td>\n",
              "      <td>-0.221929</td>\n",
              "      <td>0.062723</td>\n",
              "      <td>0.061458</td>\n",
              "      <td>123.50</td>\n",
              "      <td>0</td>\n",
              "    </tr>\n",
              "    <tr>\n",
              "      <th>4</th>\n",
              "      <td>-1.158233</td>\n",
              "      <td>0.877737</td>\n",
              "      <td>1.548718</td>\n",
              "      <td>0.403034</td>\n",
              "      <td>-0.407193</td>\n",
              "      <td>0.095921</td>\n",
              "      <td>0.592941</td>\n",
              "      <td>-0.270533</td>\n",
              "      <td>0.817739</td>\n",
              "      <td>0.753074</td>\n",
              "      <td>-0.822843</td>\n",
              "      <td>0.538196</td>\n",
              "      <td>1.345852</td>\n",
              "      <td>-1.119670</td>\n",
              "      <td>0.175121</td>\n",
              "      <td>-0.451449</td>\n",
              "      <td>-0.237033</td>\n",
              "      <td>-0.038195</td>\n",
              "      <td>0.803487</td>\n",
              "      <td>0.408542</td>\n",
              "      <td>-0.009431</td>\n",
              "      <td>0.798278</td>\n",
              "      <td>-0.137458</td>\n",
              "      <td>0.141267</td>\n",
              "      <td>-0.206010</td>\n",
              "      <td>0.502292</td>\n",
              "      <td>0.219422</td>\n",
              "      <td>0.215153</td>\n",
              "      <td>69.99</td>\n",
              "      <td>0</td>\n",
              "    </tr>\n",
              "    <tr>\n",
              "      <th>...</th>\n",
              "      <td>...</td>\n",
              "      <td>...</td>\n",
              "      <td>...</td>\n",
              "      <td>...</td>\n",
              "      <td>...</td>\n",
              "      <td>...</td>\n",
              "      <td>...</td>\n",
              "      <td>...</td>\n",
              "      <td>...</td>\n",
              "      <td>...</td>\n",
              "      <td>...</td>\n",
              "      <td>...</td>\n",
              "      <td>...</td>\n",
              "      <td>...</td>\n",
              "      <td>...</td>\n",
              "      <td>...</td>\n",
              "      <td>...</td>\n",
              "      <td>...</td>\n",
              "      <td>...</td>\n",
              "      <td>...</td>\n",
              "      <td>...</td>\n",
              "      <td>...</td>\n",
              "      <td>...</td>\n",
              "      <td>...</td>\n",
              "      <td>...</td>\n",
              "      <td>...</td>\n",
              "      <td>...</td>\n",
              "      <td>...</td>\n",
              "      <td>...</td>\n",
              "      <td>...</td>\n",
              "    </tr>\n",
              "    <tr>\n",
              "      <th>284802</th>\n",
              "      <td>-11.881118</td>\n",
              "      <td>10.071785</td>\n",
              "      <td>-9.834783</td>\n",
              "      <td>-2.066656</td>\n",
              "      <td>-5.364473</td>\n",
              "      <td>-2.606837</td>\n",
              "      <td>-4.918215</td>\n",
              "      <td>7.305334</td>\n",
              "      <td>1.914428</td>\n",
              "      <td>4.356170</td>\n",
              "      <td>-1.593105</td>\n",
              "      <td>2.711941</td>\n",
              "      <td>-0.689256</td>\n",
              "      <td>4.626942</td>\n",
              "      <td>-0.924459</td>\n",
              "      <td>1.107641</td>\n",
              "      <td>1.991691</td>\n",
              "      <td>0.510632</td>\n",
              "      <td>-0.682920</td>\n",
              "      <td>1.475829</td>\n",
              "      <td>0.213454</td>\n",
              "      <td>0.111864</td>\n",
              "      <td>1.014480</td>\n",
              "      <td>-0.509348</td>\n",
              "      <td>1.436807</td>\n",
              "      <td>0.250034</td>\n",
              "      <td>0.943651</td>\n",
              "      <td>0.823731</td>\n",
              "      <td>0.77</td>\n",
              "      <td>0</td>\n",
              "    </tr>\n",
              "    <tr>\n",
              "      <th>284803</th>\n",
              "      <td>-0.732789</td>\n",
              "      <td>-0.055080</td>\n",
              "      <td>2.035030</td>\n",
              "      <td>-0.738589</td>\n",
              "      <td>0.868229</td>\n",
              "      <td>1.058415</td>\n",
              "      <td>0.024330</td>\n",
              "      <td>0.294869</td>\n",
              "      <td>0.584800</td>\n",
              "      <td>-0.975926</td>\n",
              "      <td>-0.150189</td>\n",
              "      <td>0.915802</td>\n",
              "      <td>1.214756</td>\n",
              "      <td>-0.675143</td>\n",
              "      <td>1.164931</td>\n",
              "      <td>-0.711757</td>\n",
              "      <td>-0.025693</td>\n",
              "      <td>-1.221179</td>\n",
              "      <td>-1.545556</td>\n",
              "      <td>0.059616</td>\n",
              "      <td>0.214205</td>\n",
              "      <td>0.924384</td>\n",
              "      <td>0.012463</td>\n",
              "      <td>-1.016226</td>\n",
              "      <td>-0.606624</td>\n",
              "      <td>-0.395255</td>\n",
              "      <td>0.068472</td>\n",
              "      <td>-0.053527</td>\n",
              "      <td>24.79</td>\n",
              "      <td>0</td>\n",
              "    </tr>\n",
              "    <tr>\n",
              "      <th>284804</th>\n",
              "      <td>1.919565</td>\n",
              "      <td>-0.301254</td>\n",
              "      <td>-3.249640</td>\n",
              "      <td>-0.557828</td>\n",
              "      <td>2.630515</td>\n",
              "      <td>3.031260</td>\n",
              "      <td>-0.296827</td>\n",
              "      <td>0.708417</td>\n",
              "      <td>0.432454</td>\n",
              "      <td>-0.484782</td>\n",
              "      <td>0.411614</td>\n",
              "      <td>0.063119</td>\n",
              "      <td>-0.183699</td>\n",
              "      <td>-0.510602</td>\n",
              "      <td>1.329284</td>\n",
              "      <td>0.140716</td>\n",
              "      <td>0.313502</td>\n",
              "      <td>0.395652</td>\n",
              "      <td>-0.577252</td>\n",
              "      <td>0.001396</td>\n",
              "      <td>0.232045</td>\n",
              "      <td>0.578229</td>\n",
              "      <td>-0.037501</td>\n",
              "      <td>0.640134</td>\n",
              "      <td>0.265745</td>\n",
              "      <td>-0.087371</td>\n",
              "      <td>0.004455</td>\n",
              "      <td>-0.026561</td>\n",
              "      <td>67.88</td>\n",
              "      <td>0</td>\n",
              "    </tr>\n",
              "    <tr>\n",
              "      <th>284805</th>\n",
              "      <td>-0.240440</td>\n",
              "      <td>0.530483</td>\n",
              "      <td>0.702510</td>\n",
              "      <td>0.689799</td>\n",
              "      <td>-0.377961</td>\n",
              "      <td>0.623708</td>\n",
              "      <td>-0.686180</td>\n",
              "      <td>0.679145</td>\n",
              "      <td>0.392087</td>\n",
              "      <td>-0.399126</td>\n",
              "      <td>-1.933849</td>\n",
              "      <td>-0.962886</td>\n",
              "      <td>-1.042082</td>\n",
              "      <td>0.449624</td>\n",
              "      <td>1.962563</td>\n",
              "      <td>-0.608577</td>\n",
              "      <td>0.509928</td>\n",
              "      <td>1.113981</td>\n",
              "      <td>2.897849</td>\n",
              "      <td>0.127434</td>\n",
              "      <td>0.265245</td>\n",
              "      <td>0.800049</td>\n",
              "      <td>-0.163298</td>\n",
              "      <td>0.123205</td>\n",
              "      <td>-0.569159</td>\n",
              "      <td>0.546668</td>\n",
              "      <td>0.108821</td>\n",
              "      <td>0.104533</td>\n",
              "      <td>10.00</td>\n",
              "      <td>0</td>\n",
              "    </tr>\n",
              "    <tr>\n",
              "      <th>284806</th>\n",
              "      <td>-0.533413</td>\n",
              "      <td>-0.189733</td>\n",
              "      <td>0.703337</td>\n",
              "      <td>-0.506271</td>\n",
              "      <td>-0.012546</td>\n",
              "      <td>-0.649617</td>\n",
              "      <td>1.577006</td>\n",
              "      <td>-0.414650</td>\n",
              "      <td>0.486180</td>\n",
              "      <td>-0.915427</td>\n",
              "      <td>-1.040458</td>\n",
              "      <td>-0.031513</td>\n",
              "      <td>-0.188093</td>\n",
              "      <td>-0.084316</td>\n",
              "      <td>0.041333</td>\n",
              "      <td>-0.302620</td>\n",
              "      <td>-0.660377</td>\n",
              "      <td>0.167430</td>\n",
              "      <td>-0.256117</td>\n",
              "      <td>0.382948</td>\n",
              "      <td>0.261057</td>\n",
              "      <td>0.643078</td>\n",
              "      <td>0.376777</td>\n",
              "      <td>0.008797</td>\n",
              "      <td>-0.473649</td>\n",
              "      <td>-0.818267</td>\n",
              "      <td>-0.002415</td>\n",
              "      <td>0.013649</td>\n",
              "      <td>217.00</td>\n",
              "      <td>0</td>\n",
              "    </tr>\n",
              "  </tbody>\n",
              "</table>\n",
              "<p>284807 rows × 30 columns</p>\n",
              "</div>"
            ],
            "text/plain": [
              "               V1         V2        V3  ...       V28  Amount  Class\n",
              "0       -1.359807  -0.072781  2.536347  ... -0.021053  149.62      0\n",
              "1        1.191857   0.266151  0.166480  ...  0.014724    2.69      0\n",
              "2       -1.358354  -1.340163  1.773209  ... -0.059752  378.66      0\n",
              "3       -0.966272  -0.185226  1.792993  ...  0.061458  123.50      0\n",
              "4       -1.158233   0.877737  1.548718  ...  0.215153   69.99      0\n",
              "...           ...        ...       ...  ...       ...     ...    ...\n",
              "284802 -11.881118  10.071785 -9.834783  ...  0.823731    0.77      0\n",
              "284803  -0.732789  -0.055080  2.035030  ... -0.053527   24.79      0\n",
              "284804   1.919565  -0.301254 -3.249640  ... -0.026561   67.88      0\n",
              "284805  -0.240440   0.530483  0.702510  ...  0.104533   10.00      0\n",
              "284806  -0.533413  -0.189733  0.703337  ...  0.013649  217.00      0\n",
              "\n",
              "[284807 rows x 30 columns]"
            ]
          },
          "metadata": {
            "tags": []
          },
          "execution_count": 33
        }
      ]
    },
    {
      "cell_type": "markdown",
      "metadata": {
        "id": "lGo95wbeoI_s",
        "colab_type": "text"
      },
      "source": [
        "This time we will NOT separate the data into classes, rather we will perform the usual train/validation split."
      ]
    },
    {
      "cell_type": "code",
      "metadata": {
        "colab_type": "code",
        "id": "nCNJl61WCo0J",
        "colab": {}
      },
      "source": [
        "y = np.array(df.Class.copy())\n",
        "df.drop(columns = ['Class'], axis = 1, inplace = True)\n",
        "X = np.array(df.copy())\n",
        "X_train, X_val, y_train, y_val = train_test_split(X, y, test_size = 0.3)"
      ],
      "execution_count": 34,
      "outputs": []
    },
    {
      "cell_type": "code",
      "metadata": {
        "colab_type": "code",
        "id": "iHeRrK4QCo7j",
        "colab": {}
      },
      "source": [
        "from sklearn.ensemble import IsolationForest "
      ],
      "execution_count": 35,
      "outputs": []
    },
    {
      "cell_type": "code",
      "metadata": {
        "id": "_H_lAkxMpqBq",
        "colab_type": "code",
        "colab": {}
      },
      "source": [
        "scaler = StandardScaler()\n",
        "pca = PCA(n_components = 29) # We can play with this hyperparameter to see what effects have changing the dimensionality.\n",
        "\n",
        "X_train = pca.fit_transform(X_train)\n",
        "X_train = scaler.fit_transform(X_train)\n",
        "\n",
        "X_val   = pca.transform(X_val)\n",
        "X_val   = scaler.transform(X_val)\n",
        "\n"
      ],
      "execution_count": 36,
      "outputs": []
    },
    {
      "cell_type": "markdown",
      "metadata": {
        "id": "7TojyulGs21v",
        "colab_type": "text"
      },
      "source": [
        "So, what is the idea behind an isolation forest? Well, it's actually a pretty intuitive algorithm. What we have to do is to select a feature, at random, and randomly select a value between the maximum and minimum values of that feature, then, split the data. Continuing with this process will, eventually, segregate the points, and finally, all we have to do is to count the number of partitions requiered to do this. What we notice, is that the number of partitions needed to isolate 'normal' points is significantly larger than the number of partitions needed to isolate the anomalies (outliers), so we classify them based on that."
      ]
    },
    {
      "cell_type": "code",
      "metadata": {
        "colab_type": "code",
        "id": "IMhmlYLqCo_J",
        "colab": {}
      },
      "source": [
        "model_IF = IsolationForest()"
      ],
      "execution_count": 37,
      "outputs": []
    },
    {
      "cell_type": "code",
      "metadata": {
        "colab_type": "code",
        "id": "5PZ_Y3BoCpDh",
        "colab": {
          "base_uri": "https://localhost:8080/",
          "height": 69
        },
        "outputId": "9fa15eec-2a42-400d-9cb1-0112066efb2f"
      },
      "source": [
        "model_IF.fit(X_train)"
      ],
      "execution_count": 38,
      "outputs": [
        {
          "output_type": "execute_result",
          "data": {
            "text/plain": [
              "IsolationForest(behaviour='deprecated', bootstrap=False, contamination='auto',\n",
              "                max_features=1.0, max_samples='auto', n_estimators=100,\n",
              "                n_jobs=None, random_state=None, verbose=0, warm_start=False)"
            ]
          },
          "metadata": {
            "tags": []
          },
          "execution_count": 38
        }
      ]
    },
    {
      "cell_type": "code",
      "metadata": {
        "colab_type": "code",
        "id": "VdonaIowCpH7",
        "colab": {}
      },
      "source": [
        "y_pred_train_IF = model_IF.predict(X_train)"
      ],
      "execution_count": 39,
      "outputs": []
    },
    {
      "cell_type": "markdown",
      "metadata": {
        "id": "bfUNUIitsI6E",
        "colab_type": "text"
      },
      "source": [
        "The output for the Isolation Forest class in sklearn is +1 for inlier and -1 for outlier (anomaly), so we turn into the familiar 0 and 1 classes, and calculate the confusion matrix."
      ]
    },
    {
      "cell_type": "code",
      "metadata": {
        "colab_type": "code",
        "id": "gnA8LkTWCo5R",
        "colab": {}
      },
      "source": [
        "y_pred_train_IF = (- y_pred_train_IF + 1 ) // 2"
      ],
      "execution_count": 40,
      "outputs": []
    },
    {
      "cell_type": "code",
      "metadata": {
        "colab_type": "code",
        "id": "TSJ6bd6MCo3l",
        "colab": {
          "base_uri": "https://localhost:8080/",
          "height": 296
        },
        "outputId": "a8a9de3a-5e76-4d6e-919e-47194cad0c02"
      },
      "source": [
        "CR = classification_report(y_train, y_pred_train_IF)\n",
        "\n",
        "CM = confusion_matrix(y_train, y_pred_train_IF)\n",
        "\n",
        "plt.figure(\"Confusion Matrix\")\n",
        "sns.heatmap(CM, annot = True, fmt=\"d\", center = 70000)\n",
        "plt.xlabel(\"Predictions\")\n",
        "plt.ylabel(\"True labels\")\n",
        "print()"
      ],
      "execution_count": 41,
      "outputs": [
        {
          "output_type": "stream",
          "text": [
            "\n"
          ],
          "name": "stdout"
        },
        {
          "output_type": "display_data",
          "data": {
            "image/png": "[encoded data removed]",
            "text/plain": [
              "<Figure size 432x288 with 2 Axes>"
            ]
          },
          "metadata": {
            "tags": [],
            "needs_background": "light"
          }
        }
      ]
    },
    {
      "cell_type": "code",
      "metadata": {
        "id": "iks10XFXrxk0",
        "colab_type": "code",
        "colab": {
          "base_uri": "https://localhost:8080/",
          "height": 52
        },
        "outputId": "5f72cc0f-9a2f-401a-c4f2-8de6d328c356"
      },
      "source": [
        "TPR = CM[1,1] / (CM[1,1] + CM[1,0] )\n",
        "train_f1_score = f1_score(y_train, y_pred_train_IF)\n",
        "\n",
        "print(\"Training TPR = \", TPR)\n",
        "print(\"Training F1 score = \", train_f1_score)\n"
      ],
      "execution_count": 42,
      "outputs": [
        {
          "output_type": "stream",
          "text": [
            "Training TPR =  0.7942028985507247\n",
            "Training F1 score =  0.08052902277736958\n"
          ],
          "name": "stdout"
        }
      ]
    },
    {
      "cell_type": "markdown",
      "metadata": {
        "id": "KdK1sJqfh3d2",
        "colab_type": "text"
      },
      "source": [
        "As we can see, the TPR is quite decent, HOWEVER, the number of False Positives is quite LARGE, and in practice this could be a disaster since the amount of resources used to verify them may exceed the ones available. Moreover, we can see that the F1 score is very small."
      ]
    },
    {
      "cell_type": "markdown",
      "metadata": {
        "id": "Ry2h5ioMkMdS",
        "colab_type": "text"
      },
      "source": [
        "Finally, let's see the confusion matrix and the values for the TPR and F1 score for the validation set."
      ]
    },
    {
      "cell_type": "code",
      "metadata": {
        "id": "rziHJWAjktg9",
        "colab_type": "code",
        "colab": {}
      },
      "source": [
        "y_pred_val_IF = model_IF.predict(X_val)\n",
        "y_pred_val_IF = (- y_pred_val_IF + 1 ) // 2"
      ],
      "execution_count": 43,
      "outputs": []
    },
    {
      "cell_type": "code",
      "metadata": {
        "id": "WVpVHg_IktxB",
        "colab_type": "code",
        "colab": {
          "base_uri": "https://localhost:8080/",
          "height": 296
        },
        "outputId": "a705ac49-267f-4169-b63f-848efc8261c9"
      },
      "source": [
        "CR = classification_report(y_val, y_pred_val_IF)\n",
        "\n",
        "CM = confusion_matrix(y_val, y_pred_val_IF)\n",
        "\n",
        "plt.figure(\"Confusion Matrix\")\n",
        "sns.heatmap(CM, annot = True, fmt=\"d\", center = 40000)\n",
        "plt.xlabel(\"Predictions\")\n",
        "plt.ylabel(\"True labels\")\n",
        "print()"
      ],
      "execution_count": 44,
      "outputs": [
        {
          "output_type": "stream",
          "text": [
            "\n"
          ],
          "name": "stdout"
        },
        {
          "output_type": "display_data",
          "data": {
            "image/png": "[encoded data removed]",
            "text/plain": [
              "<Figure size 432x288 with 2 Axes>"
            ]
          },
          "metadata": {
            "tags": [],
            "needs_background": "light"
          }
        }
      ]
    },
    {
      "cell_type": "code",
      "metadata": {
        "id": "1i1EFrqclFK-",
        "colab_type": "code",
        "colab": {
          "base_uri": "https://localhost:8080/",
          "height": 52
        },
        "outputId": "3d9b9d37-0759-42b8-c912-b08c6a5d1f43"
      },
      "source": [
        "TPR = CM[1,1] / (CM[1,1] + CM[1,0] )\n",
        "val_f1_score = f1_score(y_val, y_pred_val_IF)\n",
        "\n",
        "print(\"Validation TPR = \", TPR)\n",
        "print(\"Validation F1 score = \", val_f1_score)\n"
      ],
      "execution_count": 45,
      "outputs": [
        {
          "output_type": "stream",
          "text": [
            "Validation TPR =  0.7891156462585034\n",
            "Validation F1 score =  0.08002759572266299\n"
          ],
          "name": "stdout"
        }
      ]
    },
    {
      "cell_type": "code",
      "metadata": {
        "id": "l0X6PZ4SlJ4L",
        "colab_type": "code",
        "colab": {}
      },
      "source": [
        ""
      ],
      "execution_count": 45,
      "outputs": []
    }
  ]
}
